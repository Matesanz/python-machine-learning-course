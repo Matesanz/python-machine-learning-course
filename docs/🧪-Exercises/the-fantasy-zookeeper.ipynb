{
 "cells": [
  {
   "cell_type": "markdown",
   "metadata": {},
   "source": [
    "# 🦄 The Fantasy Zookeeper\n",
    "\n",
    "**Scenario:**\n",
    "\n",
    "Congratulations! You've been hired as a data analyst at Fantasy Zoo, the world's first zoo for mythical creatures. Your job is to analyze the data of the mythical creatures living at the zoo and provide insights to help improve their wellbeing.\n",
    "\n",
    "You've been given a **dataset** containing the following columns:\n",
    "* `creature_name`: Name of the creature\n",
    "* `creature_type`: Type of the creature (e.g., dragon, unicorn, etc.)\n",
    "* `age`: Age of the creature (in years)\n",
    "* `health_status`: Health status of the creature (Excellent, Good, Fair, Poor)\n",
    "* `magical_ability_score`: Score representing the creature's magical ability (0-100)\n",
    "\n",
    "**Exercise:**\n",
    "\n",
    "In order to organize the animals into different habitats, you've been asked to answer the fsome questions regarding this dataset:"
   ]
  },
  {
   "cell_type": "code",
   "execution_count": 1,
   "metadata": {},
   "outputs": [],
   "source": [
    "import pandas as pd\n",
    "import numpy as np\n",
    "\n",
    "# Define the number of creatures\n",
    "num_creatures = 100\n",
    "\n",
    "# Define the creature types\n",
    "creature_types = ['Dragon', 'Unicorn', 'Griffin', 'Phoenix', 'Mermaid', 'Centaur']\n",
    "\n",
    "# Generate random data\n",
    "data = {\n",
    "    'creature_name': ['Creature' + str(i) for i in range(num_creatures)],\n",
    "    'creature_type': np.random.choice(creature_types, num_creatures),\n",
    "    'age': np.random.randint(1, 1000, num_creatures),\n",
    "    'health_status': np.random.choice(['Excellent', 'Good', 'Fair', 'Poor'], num_creatures),\n",
    "    'magical_ability_score': np.random.randint(0, 101, num_creatures)\n",
    "}\n",
    "\n",
    "# Create a DataFrame\n",
    "df = pd.DataFrame(data)"
   ]
  },
  {
   "cell_type": "markdown",
   "metadata": {},
   "source": [
    "1. Display the first 5 rows of the dataframe."
   ]
  },
  {
   "cell_type": "code",
   "execution_count": 2,
   "metadata": {},
   "outputs": [
    {
     "data": {
      "text/html": [
       "<div>\n",
       "<style scoped>\n",
       "    .dataframe tbody tr th:only-of-type {\n",
       "        vertical-align: middle;\n",
       "    }\n",
       "\n",
       "    .dataframe tbody tr th {\n",
       "        vertical-align: top;\n",
       "    }\n",
       "\n",
       "    .dataframe thead th {\n",
       "        text-align: right;\n",
       "    }\n",
       "</style>\n",
       "<table border=\"1\" class=\"dataframe\">\n",
       "  <thead>\n",
       "    <tr style=\"text-align: right;\">\n",
       "      <th></th>\n",
       "      <th>creature_name</th>\n",
       "      <th>creature_type</th>\n",
       "      <th>age</th>\n",
       "      <th>health_status</th>\n",
       "      <th>magical_ability_score</th>\n",
       "    </tr>\n",
       "  </thead>\n",
       "  <tbody>\n",
       "    <tr>\n",
       "      <th>0</th>\n",
       "      <td>Creature0</td>\n",
       "      <td>Centaur</td>\n",
       "      <td>264</td>\n",
       "      <td>Fair</td>\n",
       "      <td>30</td>\n",
       "    </tr>\n",
       "    <tr>\n",
       "      <th>1</th>\n",
       "      <td>Creature1</td>\n",
       "      <td>Centaur</td>\n",
       "      <td>865</td>\n",
       "      <td>Excellent</td>\n",
       "      <td>6</td>\n",
       "    </tr>\n",
       "    <tr>\n",
       "      <th>2</th>\n",
       "      <td>Creature2</td>\n",
       "      <td>Centaur</td>\n",
       "      <td>956</td>\n",
       "      <td>Fair</td>\n",
       "      <td>22</td>\n",
       "    </tr>\n",
       "    <tr>\n",
       "      <th>3</th>\n",
       "      <td>Creature3</td>\n",
       "      <td>Griffin</td>\n",
       "      <td>837</td>\n",
       "      <td>Fair</td>\n",
       "      <td>19</td>\n",
       "    </tr>\n",
       "    <tr>\n",
       "      <th>4</th>\n",
       "      <td>Creature4</td>\n",
       "      <td>Unicorn</td>\n",
       "      <td>540</td>\n",
       "      <td>Good</td>\n",
       "      <td>6</td>\n",
       "    </tr>\n",
       "  </tbody>\n",
       "</table>\n",
       "</div>"
      ],
      "text/plain": [
       "  creature_name creature_type  age health_status  magical_ability_score\n",
       "0     Creature0       Centaur  264          Fair                     30\n",
       "1     Creature1       Centaur  865     Excellent                      6\n",
       "2     Creature2       Centaur  956          Fair                     22\n",
       "3     Creature3       Griffin  837          Fair                     19\n",
       "4     Creature4       Unicorn  540          Good                      6"
      ]
     },
     "execution_count": 2,
     "metadata": {},
     "output_type": "execute_result"
    }
   ],
   "source": []
  },
  {
   "cell_type": "markdown",
   "metadata": {},
   "source": [
    "2. Calculate and print the total number of creatures in the zoo."
   ]
  },
  {
   "cell_type": "code",
   "execution_count": 3,
   "metadata": {},
   "outputs": [
    {
     "data": {
      "text/plain": [
       "'Total number of creatures: 100'"
      ]
     },
     "execution_count": 3,
     "metadata": {},
     "output_type": "execute_result"
    }
   ],
   "source": []
  },
  {
   "cell_type": "markdown",
   "metadata": {},
   "source": [
    "3. Calculate and print the average age of the creatures."
   ]
  },
  {
   "cell_type": "code",
   "execution_count": 4,
   "metadata": {},
   "outputs": [
    {
     "data": {
      "text/plain": [
       "'Average age of creatures: 556.46'"
      ]
     },
     "execution_count": 4,
     "metadata": {},
     "output_type": "execute_result"
    }
   ],
   "source": []
  },
  {
   "cell_type": "markdown",
   "metadata": {},
   "source": [
    "4. Find and print the name of the oldest creature."
   ]
  },
  {
   "cell_type": "code",
   "execution_count": 5,
   "metadata": {},
   "outputs": [
    {
     "data": {
      "text/plain": [
       "'Oldest creature: Creature59'"
      ]
     },
     "execution_count": 5,
     "metadata": {},
     "output_type": "execute_result"
    }
   ],
   "source": []
  },
  {
   "cell_type": "markdown",
   "metadata": {},
   "source": [
    "5. Identify and print the most common type of creature."
   ]
  },
  {
   "cell_type": "code",
   "execution_count": 6,
   "metadata": {},
   "outputs": [
    {
     "data": {
      "text/plain": [
       "'Most common creature type: Dragon'"
      ]
     },
     "execution_count": 6,
     "metadata": {},
     "output_type": "execute_result"
    }
   ],
   "source": []
  },
  {
   "cell_type": "markdown",
   "metadata": {},
   "source": [
    "6. Find and print the average magical ability score for each type of creature."
   ]
  },
  {
   "cell_type": "code",
   "execution_count": 7,
   "metadata": {},
   "outputs": [
    {
     "data": {
      "text/plain": [
       "creature_type\n",
       "Centaur    45.052632\n",
       "Dragon     54.500000\n",
       "Griffin    55.818182\n",
       "Mermaid    46.000000\n",
       "Phoenix    64.416667\n",
       "Unicorn    50.684211\n",
       "Name: magical_ability_score, dtype: float64"
      ]
     },
     "execution_count": 7,
     "metadata": {},
     "output_type": "execute_result"
    }
   ],
   "source": []
  },
  {
   "cell_type": "markdown",
   "metadata": {},
   "source": [
    "7. Find the names of creatures who have a 'Poor' health status."
   ]
  },
  {
   "cell_type": "code",
   "execution_count": 8,
   "metadata": {},
   "outputs": [
    {
     "data": {
      "text/plain": [
       "11    Creature11\n",
       "14    Creature14\n",
       "15    Creature15\n",
       "16    Creature16\n",
       "19    Creature19\n",
       "20    Creature20\n",
       "23    Creature23\n",
       "25    Creature25\n",
       "38    Creature38\n",
       "39    Creature39\n",
       "46    Creature46\n",
       "48    Creature48\n",
       "50    Creature50\n",
       "54    Creature54\n",
       "55    Creature55\n",
       "63    Creature63\n",
       "65    Creature65\n",
       "72    Creature72\n",
       "77    Creature77\n",
       "78    Creature78\n",
       "86    Creature86\n",
       "92    Creature92\n",
       "93    Creature93\n",
       "97    Creature97\n",
       "Name: creature_name, dtype: object"
      ]
     },
     "execution_count": 8,
     "metadata": {},
     "output_type": "execute_result"
    }
   ],
   "source": []
  },
  {
   "cell_type": "markdown",
   "metadata": {},
   "source": [
    "Remember, the happiness of the mythical creatures is in your hands. Happy analyzing! 💪"
   ]
  }
 ],
 "metadata": {
  "kernelspec": {
   "display_name": "Python 3",
   "language": "python",
   "name": "python3"
  },
  "language_info": {
   "codemirror_mode": {
    "name": "ipython",
    "version": 3
   },
   "file_extension": ".py",
   "mimetype": "text/x-python",
   "name": "python",
   "nbconvert_exporter": "python",
   "pygments_lexer": "ipython3",
   "version": "3.9.17"
  },
  "orig_nbformat": 4
 },
 "nbformat": 4,
 "nbformat_minor": 2
}
