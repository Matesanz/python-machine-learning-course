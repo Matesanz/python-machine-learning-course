{
 "cells": [
  {
   "cell_type": "markdown",
   "metadata": {},
   "source": [
    "# ⭕❌⭕ The Tic Tac Toe Referee (Solution)\n",
    "\n",
    "**Scenario**:\n",
    "\n",
    "You're a famous Tic Tac Toe referee, and you've been called in to **resolve a dispute** between two players. Multiple games have been played but no one can remember exactly how they played out, and checking all the games by hand would take a lot of time. \n",
    "\n",
    "**Exercise**:\n",
    "\n",
    "You've been given **the moves for each game**, and **you need to figure out the winner of each game** where 1 represents player 1, 2 represents player 2, and 0 represents an empty space."
   ]
  },
  {
   "cell_type": "code",
   "execution_count": 1,
   "metadata": {},
   "outputs": [],
   "source": [
    "import numpy as np\n",
    "\n",
    "# Initialize an array of zeros with the dimensions of your games\n",
    "num_games = 1000\n",
    "games = np.zeros((num_games, 3, 3), dtype=int)\n",
    "\n",
    "# Fill the array with random moves\n",
    "for game in games:\n",
    "    # Randomly choose your moves\n",
    "    num_your_moves = np.random.randint(1, 5)\n",
    "    your_moves = np.random.choice(9, num_your_moves, replace=False)\n",
    "    np.put(game, your_moves, 1)  # Fill your moves into the game grid\n",
    "\n",
    "    # Randomly choose the opponent's moves\n",
    "    num_opponent_moves = np.random.randint(1, 9 - num_your_moves)\n",
    "    opponent_moves = np.random.choice(list(set(range(9)) - set(your_moves)), num_opponent_moves, replace=False)\n",
    "    np.put(game, opponent_moves, 2)"
   ]
  },
  {
   "cell_type": "markdown",
   "metadata": {},
   "source": [
    "**Your Tasks**:\n",
    "\n",
    "1. Create a function that checks if a player has won a game along the rows."
   ]
  },
  {
   "cell_type": "code",
   "execution_count": 2,
   "metadata": {},
   "outputs": [],
   "source": [
    "def check_row(row: np.ndarray) -> int:\n",
    "    \"\"\"Check if a row is a winning row.\n",
    "\n",
    "    Args:\n",
    "        row (np.ndarray): A row of a tic-tac-toe game. Shape (3,).\n",
    "\n",
    "    Returns:\n",
    "        int: 1 if the row is a winning row for the player 1, \n",
    "            2 if the row is a winning row for the player 2, \n",
    "            0 otherwise.\n",
    "    \"\"\"\n",
    "    if np.all(row == 1):\n",
    "        return 1\n",
    "    elif np.all(row == 2):\n",
    "        return 2\n",
    "    else:\n",
    "        return 0"
   ]
  },
  {
   "cell_type": "markdown",
   "metadata": {},
   "source": [
    "2. Create a function that checks if a player has won a game along the rows using the previous function."
   ]
  },
  {
   "cell_type": "code",
   "execution_count": 3,
   "metadata": {},
   "outputs": [],
   "source": [
    "def check_rows(grid: np.ndarray) -> int:\n",
    "    \"\"\"Check if any row is a winning row.\n",
    "\n",
    "    Args:\n",
    "        grid (np.ndarray): A tic-tac-toe game. Shape (3, 3).\n",
    "\n",
    "    Returns:\n",
    "        int: 1 if the row is a winning row for the player 1, \n",
    "            2 if the row is a winning row for the player 2, \n",
    "            0 otherwise.\n",
    "    \"\"\"\n",
    "    for row in grid:\n",
    "        result = check_row(row)\n",
    "        if result != 0:\n",
    "            return result\n",
    "    return 0"
   ]
  },
  {
   "cell_type": "markdown",
   "metadata": {},
   "source": [
    "3. Create a function that checks if a player has won a game along the columns."
   ]
  },
  {
   "cell_type": "code",
   "execution_count": 4,
   "metadata": {},
   "outputs": [],
   "source": [
    "def check_columns(grid: np.ndarray) -> int:\n",
    "    \"\"\"Check if any column is a winning column.\n",
    "\n",
    "    Args:\n",
    "        grid (np.ndarray): A tic-tac-toe game. Shape (3, 3).\n",
    "\n",
    "    Returns:\n",
    "        int: 1 if the row is a winning row for the player 1, \n",
    "            2 if the row is a winning row for the player 2, \n",
    "            0 otherwise.\n",
    "    \"\"\"\n",
    "    return check_rows(grid.T)  # Transpose the grid to check the columns"
   ]
  },
  {
   "cell_type": "markdown",
   "metadata": {},
   "source": [
    "4. Create a function that checks if a player has won a game along the diagonals."
   ]
  },
  {
   "cell_type": "code",
   "execution_count": 5,
   "metadata": {},
   "outputs": [],
   "source": [
    "def check_diagonals(grid: np.ndarray) -> int:\n",
    "    \"\"\"Check if any diagonal is a winning diagonal.\n",
    "\n",
    "    Args:\n",
    "        grid (np.ndarray): A tic-tac-toe game. Shape (3, 3).\n",
    "\n",
    "    Returns:\n",
    "        int: 1 if the row is a winning row for the player 1, \n",
    "            2 if the row is a winning row for the player 2, \n",
    "            0 otherwise.\n",
    "    \"\"\"\n",
    "    diagonal_0 = np.diag(grid)\n",
    "    diagonal_1 = np.diag(np.fliplr(grid))\n",
    "    diagonals = np.array([diagonal_0, diagonal_1], dtype=int) # Combine the diagonals\n",
    "    return check_rows(diagonals)"
   ]
  },
  {
   "cell_type": "markdown",
   "metadata": {},
   "source": [
    "5. Create a function that checks if a player has won a game using the previous three functions."
   ]
  },
  {
   "cell_type": "code",
   "execution_count": 6,
   "metadata": {},
   "outputs": [],
   "source": [
    "def check_win(grid: np.ndarray) -> int:\n",
    "    \"\"\"Check if any row, column, or diagonal is a winning row, column, or\n",
    "    diagonal.\n",
    "\n",
    "    Args:\n",
    "        grid (np.ndarray): A tic-tac-toe game. Shape (3, 3).\n",
    "\n",
    "    Returns:\n",
    "        int: 1 if a row, column, or diagonal is a winning row, column, or\n",
    "            diagonal for the player 1, 2 if it is a winning row, column, or\n",
    "            diagonal for the player 2, 0 otherwise.\n",
    "    \"\"\"\n",
    "    # check rows\n",
    "    result = check_rows(grid)\n",
    "    if result != 0:\n",
    "        return result\n",
    "    # check columns\n",
    "    result = check_columns(grid)\n",
    "    if result != 0:\n",
    "        return result\n",
    "    # check diagonals\n",
    "    result = check_diagonals(grid)\n",
    "    if result != 0:\n",
    "        return result\n",
    "    # no win\n",
    "    return 0"
   ]
  },
  {
   "cell_type": "markdown",
   "metadata": {},
   "source": [
    "6. Compute how many games you've won/lost/drawn in the dataset."
   ]
  },
  {
   "cell_type": "code",
   "execution_count": 7,
   "metadata": {},
   "outputs": [
    {
     "name": "stdout",
     "output_type": "stream",
     "text": [
      "Player 1 wins: 117\n",
      "Player 2 wins: 309\n",
      "Draws: 574\n"
     ]
    }
   ],
   "source": [
    "player_1, player_2, draws = 0, 0, 0\n",
    "for game in games:\n",
    "    result = check_win(game)\n",
    "    if result == 1:\n",
    "        player_1 += 1\n",
    "    elif result == 2:\n",
    "        player_2 += 1\n",
    "    else:\n",
    "        draws += 1\n",
    "\n",
    "print(f\"Player 1 wins: {player_1}\")\n",
    "print(f\"Player 2 wins: {player_2}\")\n",
    "print(f\"Draws: {draws}\")"
   ]
  },
  {
   "cell_type": "markdown",
   "metadata": {},
   "source": [
    "🎉 Congratulations! You've just created a Tic Tac Toe referee that can check the winner of any game! 🎉"
   ]
  }
 ],
 "metadata": {
  "kernelspec": {
   "display_name": "Python 3",
   "language": "python",
   "name": "python3"
  },
  "language_info": {
   "codemirror_mode": {
    "name": "ipython",
    "version": 3
   },
   "file_extension": ".py",
   "mimetype": "text/x-python",
   "name": "python",
   "nbconvert_exporter": "python",
   "pygments_lexer": "ipython3",
   "version": "3.9.17"
  },
  "orig_nbformat": 4
 },
 "nbformat": 4,
 "nbformat_minor": 2
}
