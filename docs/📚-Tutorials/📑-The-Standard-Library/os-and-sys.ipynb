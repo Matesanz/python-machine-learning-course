{
 "cells": [
  {
   "attachments": {},
   "cell_type": "markdown",
   "metadata": {},
   "source": [
    "# 💻 The OS and SYS modules"
   ]
  },
  {
   "attachments": {},
   "cell_type": "markdown",
   "metadata": {},
   "source": [
    "## 1. The os Module\n",
    "\n",
    "The `os` module in Python provides a way of using operating system dependent functionality such as reading or writing to the environment, manipulating paths, handling files and more."
   ]
  },
  {
   "attachments": {},
   "cell_type": "markdown",
   "metadata": {},
   "source": [
    "### 1.1 os.name\n",
    "\n",
    "\n",
    "This function gives the name of the operating system dependent module imported."
   ]
  },
  {
   "cell_type": "code",
   "execution_count": 1,
   "metadata": {},
   "outputs": [
    {
     "name": "stdout",
     "output_type": "stream",
     "text": [
      "posix\n"
     ]
    }
   ],
   "source": [
    "import os\n",
    "\n",
    "print(os.name)  # outputs: 'posix' on Linux and 'nt' on Windows"
   ]
  },
  {
   "attachments": {},
   "cell_type": "markdown",
   "metadata": {},
   "source": [
    "### 1.2 os.getcwd\n",
    "\n",
    "This function allows you to see what your current working directory is."
   ]
  },
  {
   "cell_type": "code",
   "execution_count": 2,
   "metadata": {},
   "outputs": [
    {
     "name": "stdout",
     "output_type": "stream",
     "text": [
      "/workspaces/python_ml_course/docs/📚-Tutorials/📑-The-Standard-Library.ipynb\n"
     ]
    }
   ],
   "source": [
    "import os\n",
    "\n",
    "print(os.getcwd())  # e.g., outputs: '/home/user'"
   ]
  },
  {
   "attachments": {},
   "cell_type": "markdown",
   "metadata": {},
   "source": [
    "### 1.3 os.chdir\n",
    "\n",
    "This function allows you to change your current working directory."
   ]
  },
  {
   "cell_type": "code",
   "execution_count": 3,
   "metadata": {},
   "outputs": [
    {
     "name": "stdout",
     "output_type": "stream",
     "text": [
      "/workspaces/python_ml_course/docs/📚-Tutorials\n"
     ]
    }
   ],
   "source": [
    "import os\n",
    "\n",
    "os.chdir('../')\n",
    "print(os.getcwd())  # outputs: '/path/to/directory'"
   ]
  },
  {
   "cell_type": "code",
   "execution_count": 4,
   "metadata": {},
   "outputs": [
    {
     "data": {
      "text/plain": [
       "False"
      ]
     },
     "execution_count": 4,
     "metadata": {},
     "output_type": "execute_result"
    }
   ],
   "source": [
    "os.path.exists('file.txt')  # returns True if file.txt exists"
   ]
  },
  {
   "attachments": {},
   "cell_type": "markdown",
   "metadata": {},
   "source": [
    "### 1.4 os.environ\n",
    "\n",
    "This provides a dictionary of all environment variables. It's a mapping object representing the string environment."
   ]
  },
  {
   "cell_type": "code",
   "execution_count": 5,
   "metadata": {},
   "outputs": [
    {
     "name": "stdout",
     "output_type": "stream",
     "text": [
      "env: HELLO=\"HELLO PYTHON\"\n",
      "\"HELLO PYTHON\"\n"
     ]
    }
   ],
   "source": [
    "import os\n",
    "\n",
    "# creates a new environment variable using jupyter %env magic command\n",
    "%env HELLO=\"HELLO PYTHON\"  \n",
    "\n",
    "# take all environment variables and print the HELLO variable\n",
    "print(os.environ[\"HELLO\"])"
   ]
  },
  {
   "attachments": {},
   "cell_type": "markdown",
   "metadata": {},
   "source": [
    "## 1.5 os.path"
   ]
  },
  {
   "cell_type": "code",
   "execution_count": 6,
   "metadata": {},
   "outputs": [
    {
     "name": "stdout",
     "output_type": "stream",
     "text": [
      "path/to/file.txt\n",
      "('path/to', 'file.txt')\n",
      "path/to\n",
      "file.txt\n",
      "('path/to/file', '.txt')\n"
     ]
    }
   ],
   "source": [
    "p = os.path.join('path', 'to', 'file.txt')  # outputs: 'path/to/file.txt'\n",
    "\n",
    "print(p)\n",
    "print(os.path.split(p))  # outputs: ('path/to', 'file.txt')\n",
    "print(os.path.dirname(p))  # outputs: 'path/to'\n",
    "print(os.path.basename(p))  # outputs: 'file.txt'\n",
    "print(os.path.splitext(p))  # outputs: ('path/to/file', '.txt')"
   ]
  },
  {
   "attachments": {},
   "cell_type": "markdown",
   "metadata": {},
   "source": [
    "## 2. sys Module\n",
    "\n",
    "The `sys` module provides access to some variables used or maintained by the Python interpreter and to functions that interact strongly with the interpreter. "
   ]
  },
  {
   "attachments": {},
   "cell_type": "markdown",
   "metadata": {},
   "source": [
    "### 2.1 sys.argv\n",
    "\n",
    "`sys.argv` is a list in Python, which contains the command-line arguments passed to the script. "
   ]
  },
  {
   "cell_type": "code",
   "execution_count": 7,
   "metadata": {},
   "outputs": [
    {
     "name": "stdout",
     "output_type": "stream",
     "text": [
      "/usr/local/lib/python3.9/site-packages/ipykernel_launcher.py\n"
     ]
    }
   ],
   "source": [
    "import sys\n",
    "\n",
    "print(sys.argv[0])  # print out the name of the script"
   ]
  },
  {
   "attachments": {},
   "cell_type": "markdown",
   "metadata": {},
   "source": [
    "Run this script from the command line with some arguments to see how it works: `python script.py arg1 arg2`\n"
   ]
  },
  {
   "attachments": {},
   "cell_type": "markdown",
   "metadata": {},
   "source": [
    "### 2.2 sys.exit\n",
    "\n",
    "This function allows you to terminate the Python script. It takes an optional argument, which is an integer giving the exit status (zero is the default, and \"normal termination\")."
   ]
  },
  {
   "cell_type": "code",
   "execution_count": 8,
   "metadata": {},
   "outputs": [],
   "source": [
    "import sys\n",
    "\n",
    "# sys.exit()  # comment out to run the rest of the code"
   ]
  },
  {
   "attachments": {},
   "cell_type": "markdown",
   "metadata": {},
   "source": [
    "### 2.3 sys.version\n",
    "\n",
    "This can be used to get information about the version of Python currently being used."
   ]
  },
  {
   "cell_type": "code",
   "execution_count": 9,
   "metadata": {},
   "outputs": [
    {
     "name": "stdout",
     "output_type": "stream",
     "text": [
      "3.9.17 (main, Jun  6 2023, 23:29:09) \n",
      "[GCC 10.2.1 20210110]\n"
     ]
    }
   ],
   "source": [
    "import sys\n",
    "\n",
    "print(sys.version)  # e.g., outputs: '3.9.5 (default, May 11 2021, 08:20:37) [GCC 10.2.0]'"
   ]
  },
  {
   "attachments": {},
   "cell_type": "markdown",
   "metadata": {},
   "source": [
    "### 2.4 sys.path\n",
    "\n",
    "This is an environment variable that is a search path for all Python modules."
   ]
  },
  {
   "cell_type": "code",
   "execution_count": 10,
   "metadata": {},
   "outputs": [
    {
     "name": "stdout",
     "output_type": "stream",
     "text": [
      "['/workspaces/python_ml_course/docs/📚-Tutorials/📑-The-Standard-Library.ipynb', '/usr/local/lib/python39.zip', '/usr/local/lib/python3.9', '/usr/local/lib/python3.9/lib-dynload', '', '/home/vscode/.local/lib/python3.9/site-packages', '/workspaces/python_ml_course', '/usr/local/lib/python3.9/site-packages']\n"
     ]
    }
   ],
   "source": [
    "import sys\n",
    "\n",
    "print(sys.path)"
   ]
  },
  {
   "attachments": {},
   "cell_type": "markdown",
   "metadata": {},
   "source": [
    "This will output a list of paths where Python looks for modules when a script imports them."
   ]
  }
 ],
 "metadata": {
  "kernelspec": {
   "display_name": "Python 3",
   "language": "python",
   "name": "python3"
  },
  "language_info": {
   "codemirror_mode": {
    "name": "ipython",
    "version": 3
   },
   "file_extension": ".py",
   "mimetype": "text/x-python",
   "name": "python",
   "nbconvert_exporter": "python",
   "pygments_lexer": "ipython3",
   "version": "3.9.9"
  },
  "orig_nbformat": 4
 },
 "nbformat": 4,
 "nbformat_minor": 2
}
