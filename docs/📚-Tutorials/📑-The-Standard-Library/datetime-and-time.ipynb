{
 "cells": [
  {
   "attachments": {},
   "cell_type": "markdown",
   "metadata": {},
   "source": [
    "# 📅 Datetime and Time"
   ]
  },
  {
   "attachments": {},
   "cell_type": "markdown",
   "metadata": {},
   "source": [
    "The `datetime` module in Python is used for dealing with dates and time.\n",
    "\n",
    "### 1. The Datetime Object\n",
    "\n",
    "You can create a `datetime` object to represent a specific point in time:"
   ]
  },
  {
   "cell_type": "code",
   "execution_count": 1,
   "metadata": {},
   "outputs": [
    {
     "name": "stdout",
     "output_type": "stream",
     "text": [
      "2023-07-04 20:47:49.435519\n"
     ]
    }
   ],
   "source": [
    "from datetime import datetime\n",
    "\n",
    "# Create a datetime object for the current date and time\n",
    "now = datetime.now()\n",
    "\n",
    "print(now)  # e.g., prints: year-month-day hour:minute:second.microsecond"
   ]
  },
  {
   "attachments": {},
   "cell_type": "markdown",
   "metadata": {},
   "source": [
    "### 1.2 The Date Object\n",
    "\n",
    "You can also create a `date` object to represent a date without a time:"
   ]
  },
  {
   "cell_type": "code",
   "execution_count": 2,
   "metadata": {},
   "outputs": [
    {
     "name": "stdout",
     "output_type": "stream",
     "text": [
      "2023-07-04\n"
     ]
    }
   ],
   "source": [
    "from datetime import date\n",
    "\n",
    "# Create a date object for the current date\n",
    "today = date.today()\n",
    "\n",
    "print(today)  # e.g., prints: year-month-day"
   ]
  },
  {
   "attachments": {},
   "cell_type": "markdown",
   "metadata": {},
   "source": [
    "### 3. The Timedelta Object\n",
    "\n",
    "`timedelta` objects represent a duration, or the difference between two dates or times:"
   ]
  },
  {
   "cell_type": "code",
   "execution_count": 3,
   "metadata": {},
   "outputs": [
    {
     "name": "stdout",
     "output_type": "stream",
     "text": [
      "2023-07-11\n"
     ]
    }
   ],
   "source": [
    "from datetime import timedelta\n",
    "\n",
    "# Create a timedelta of 7 days\n",
    "week = timedelta(days=7)\n",
    "\n",
    "# Add 7 days to today's date\n",
    "next_week = today + week\n",
    "\n",
    "print(next_week)  # e.g., prints: year-month-day"
   ]
  },
  {
   "attachments": {},
   "cell_type": "markdown",
   "metadata": {},
   "source": [
    "### 4. Formatting Dates and Times\n",
    "\n",
    "You can format `datetime` objects as strings using the `strftime` method, which stands for \"string format time\". You can also convert strings to `datetime` objects using the `strptime` method, which stands for \"string parse time\"."
   ]
  },
  {
   "cell_type": "code",
   "execution_count": 4,
   "metadata": {},
   "outputs": [
    {
     "name": "stdout",
     "output_type": "stream",
     "text": [
      "2023-07-04 20:47:49\n",
      "2023-07-04 20:47:49\n"
     ]
    }
   ],
   "source": [
    "from datetime import datetime\n",
    "\n",
    "now = datetime.now()\n",
    "\n",
    "# Convert datetime to string\n",
    "date_string = now.strftime(\"%Y-%m-%d %H:%M:%S\")\n",
    "print(date_string)  # e.g., prints: 2023-07-02 18:42:05\n",
    "\n",
    "# Convert string to datetime\n",
    "date_object = datetime.strptime(date_string, \"%Y-%m-%d %H:%M:%S\")\n",
    "print(date_object)  # e.g., prints: year-month-day hour:minute:second"
   ]
  },
  {
   "attachments": {},
   "cell_type": "markdown",
   "metadata": {},
   "source": [
    "### 5. The time() function\n",
    "\n",
    "The `time()` function returns the number of seconds passed since epoch. The epoch is the point where the time starts, and it is platform dependent. For Unix system, the epoch is 1st January 1970."
   ]
  },
  {
   "cell_type": "code",
   "execution_count": 5,
   "metadata": {},
   "outputs": [
    {
     "name": "stdout",
     "output_type": "stream",
     "text": [
      "Seconds since epoch: 1688496469.474827\n"
     ]
    }
   ],
   "source": [
    "import time\n",
    "\n",
    "seconds = time.time()\n",
    "print(f\"Seconds since epoch: {seconds}\")  # e.g., prints: Seconds since epoch, epoch starts at 1970-01-01 00:00:00"
   ]
  },
  {
   "attachments": {},
   "cell_type": "markdown",
   "metadata": {},
   "source": [
    "### 6. The sleep() function\n",
    "\n",
    "The `sleep()` function suspends (delays) execution of the current thread for the given number of seconds."
   ]
  },
  {
   "cell_type": "code",
   "execution_count": 6,
   "metadata": {},
   "outputs": [
    {
     "name": "stdout",
     "output_type": "stream",
     "text": [
      "This is printed immediately.\n"
     ]
    },
    {
     "name": "stdout",
     "output_type": "stream",
     "text": [
      "This is printed after 2.5 seconds.\n"
     ]
    }
   ],
   "source": [
    "import time\n",
    "\n",
    "print(\"This is printed immediately.\")\n",
    "time.sleep(2.5)  # waits for 2.5 seconds\n",
    "print(\"This is printed after 2.5 seconds.\")"
   ]
  }
 ],
 "metadata": {
  "kernelspec": {
   "display_name": "Python 3",
   "language": "python",
   "name": "python3"
  },
  "language_info": {
   "codemirror_mode": {
    "name": "ipython",
    "version": 3
   },
   "file_extension": ".py",
   "mimetype": "text/x-python",
   "name": "python",
   "nbconvert_exporter": "python",
   "pygments_lexer": "ipython3",
   "version": "3.9.9"
  },
  "orig_nbformat": 4
 },
 "nbformat": 4,
 "nbformat_minor": 2
}
