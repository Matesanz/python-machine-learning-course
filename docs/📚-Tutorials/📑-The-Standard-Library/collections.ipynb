{
 "cells": [
  {
   "attachments": {},
   "cell_type": "markdown",
   "metadata": {},
   "source": [
    "# 👪 The Collections Module\n",
    "\n",
    "The `collections` module is a very useful built-in Python module that implements specialized container data types, providing alternatives to Python’s general purpose built-in containers."
   ]
  },
  {
   "attachments": {},
   "cell_type": "markdown",
   "metadata": {},
   "source": [
    "## 1. Counter\n",
    "\n",
    "Counter is a dict subclass for counting objects:"
   ]
  },
  {
   "cell_type": "code",
   "execution_count": 2,
   "metadata": {},
   "outputs": [
    {
     "name": "stdout",
     "output_type": "stream",
     "text": [
      "Counter({'blue': 3, 'red': 2, 'green': 1})\n"
     ]
    }
   ],
   "source": [
    "from collections import Counter\n",
    "\n",
    "colors = ['blue', 'red', 'blue', 'green', 'red', 'blue']\n",
    "counter = Counter(colors)\n",
    "\n",
    "print(counter)  # Outputs: Counter({'blue': 3, 'red': 2, 'green': 1})"
   ]
  },
  {
   "attachments": {},
   "cell_type": "markdown",
   "metadata": {},
   "source": [
    "## 2. defaultdict\n",
    "\n",
    "`defaultdict` is a dict subclass that calls a factory function to supply missing values:"
   ]
  },
  {
   "cell_type": "code",
   "execution_count": 3,
   "metadata": {},
   "outputs": [
    {
     "name": "stdout",
     "output_type": "stream",
     "text": [
      "defaultdict(<class 'int'>, {'blue': 3, 'red': 2, 'green': 1})\n"
     ]
    }
   ],
   "source": [
    "from collections import defaultdict\n",
    "\n",
    "color_counts = defaultdict(int)\n",
    "colors = ['blue', 'red', 'blue', 'green', 'red', 'blue']\n",
    "\n",
    "for color in colors:\n",
    "    color_counts[color] += 1\n",
    "\n",
    "print(color_counts)  # Outputs: defaultdict(<class 'int'>, {'blue': 3, 'red': 2, 'green': 1})"
   ]
  },
  {
   "attachments": {},
   "cell_type": "markdown",
   "metadata": {},
   "source": [
    "## 3. OrderedDict\n",
    "\n",
    "An `OrderedDict` is a dict subclass that remembers the order entries were added:"
   ]
  },
  {
   "cell_type": "code",
   "execution_count": 4,
   "metadata": {},
   "outputs": [
    {
     "name": "stdout",
     "output_type": "stream",
     "text": [
      "Tom's favorite color is blue\n",
      "Anna's favorite color is red\n",
      "John's favorite color is green\n"
     ]
    }
   ],
   "source": [
    "from collections import OrderedDict\n",
    "\n",
    "favorite_colors = OrderedDict()\n",
    "favorite_colors['Tom'] = 'blue'\n",
    "favorite_colors['Anna'] = 'red'\n",
    "favorite_colors['John'] = 'green'\n",
    "\n",
    "for name, color in favorite_colors.items():\n",
    "    print(f\"{name}'s favorite color is {color}\")"
   ]
  },
  {
   "attachments": {},
   "cell_type": "markdown",
   "metadata": {},
   "source": [
    "## 4. namedtuple\n",
    "\n",
    "`namedtuple` generates a subclass of tuple that has named fields, an alternative to namedtuple is the `dataclass` decorator, which is available in Python 3.7 and newer."
   ]
  },
  {
   "cell_type": "code",
   "execution_count": 5,
   "metadata": {},
   "outputs": [
    {
     "name": "stdout",
     "output_type": "stream",
     "text": [
      "255\n"
     ]
    }
   ],
   "source": [
    "from collections import namedtuple\n",
    "\n",
    "# Define a new tuple subclass named 'Color'\n",
    "Color = namedtuple('Color', ['red', 'green', 'blue'])\n",
    "\n",
    "color = Color(blue=55, green=155, red=255)\n",
    "print(color.red)  # Outputs: 255"
   ]
  },
  {
   "attachments": {},
   "cell_type": "markdown",
   "metadata": {},
   "source": [
    "## 5. deque\n",
    "\n",
    "`deque` is a list-like container with fast appends and pops on either end:"
   ]
  },
  {
   "cell_type": "code",
   "execution_count": 6,
   "metadata": {},
   "outputs": [
    {
     "name": "stdout",
     "output_type": "stream",
     "text": [
      "G\n",
      "H\n",
      "I\n"
     ]
    }
   ],
   "source": [
    "from collections import deque\n",
    "\n",
    "# Create a deque\n",
    "d = deque('ghi')  # make a new deque with three items\n",
    "for elem in d:  # iterate over the deque's elements\n",
    "    print(elem.upper())\n"
   ]
  },
  {
   "attachments": {},
   "cell_type": "markdown",
   "metadata": {},
   "source": [
    "The `collections` module is very useful for a variety of tasks and can make your code cleaner and faster."
   ]
  }
 ],
 "metadata": {
  "kernelspec": {
   "display_name": "Python 3",
   "language": "python",
   "name": "python3"
  },
  "language_info": {
   "codemirror_mode": {
    "name": "ipython",
    "version": 3
   },
   "file_extension": ".py",
   "mimetype": "text/x-python",
   "name": "python",
   "nbconvert_exporter": "python",
   "pygments_lexer": "ipython3",
   "version": "3.9.17"
  },
  "orig_nbformat": 4
 },
 "nbformat": 4,
 "nbformat_minor": 2
}
