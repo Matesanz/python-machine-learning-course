{
 "cells": [
  {
   "attachments": {},
   "cell_type": "markdown",
   "metadata": {},
   "source": [
    "# 🚠 The Pathlib Module\n",
    "\n",
    "The `pathlib` module in Python provides various classes representing filesystem paths with semantics appropriate for different operating systems. It's an object-oriented way to handle file paths."
   ]
  },
  {
   "attachments": {},
   "cell_type": "markdown",
   "metadata": {},
   "source": [
    "## 1. Importing the pathlib Module\n",
    "\n",
    "You can import the `pathlib` module as follows:"
   ]
  },
  {
   "cell_type": "code",
   "execution_count": 1,
   "metadata": {},
   "outputs": [],
   "source": [
    "from pathlib import Path"
   ]
  },
  {
   "attachments": {},
   "cell_type": "markdown",
   "metadata": {},
   "source": [
    "## 2. Creating Paths\n",
    "\n",
    "With `pathlib`, you create paths using the `Path` class:"
   ]
  },
  {
   "cell_type": "code",
   "execution_count": 2,
   "metadata": {},
   "outputs": [],
   "source": [
    "# Create a path to the current directory\n",
    "p = Path('.')\n",
    "\n",
    "# Create a path to a file\n",
    "p = Path('my_file.txt')\n",
    "\n",
    "# Create a path to a directory\n",
    "p = Path('/path/to/directory')"
   ]
  },
  {
   "attachments": {},
   "cell_type": "markdown",
   "metadata": {},
   "source": [
    "## 3. Joining Paths\n",
    "\n",
    "You can join paths using the `/` operator:"
   ]
  },
  {
   "cell_type": "code",
   "execution_count": 3,
   "metadata": {},
   "outputs": [
    {
     "name": "stdout",
     "output_type": "stream",
     "text": [
      "/path/to/directory/my_file.txt\n"
     ]
    }
   ],
   "source": [
    "p = Path('/path/to')\n",
    "\n",
    "# Join paths\n",
    "full_path = p / 'directory' / 'my_file.txt'\n",
    "\n",
    "print(full_path)  # outputs: '/path/to/directory/my_file.txt'"
   ]
  },
  {
   "attachments": {},
   "cell_type": "markdown",
   "metadata": {},
   "source": [
    "## 4. Navigating Paths\n",
    "\n",
    "You can navigate paths using various methods, such as:"
   ]
  },
  {
   "cell_type": "code",
   "execution_count": 4,
   "metadata": {},
   "outputs": [
    {
     "name": "stdout",
     "output_type": "stream",
     "text": [
      "/path/to/directory\n",
      "my_file.txt\n",
      "my_file\n",
      ".txt\n"
     ]
    }
   ],
   "source": [
    "p = Path('/path/to/directory/my_file.txt')\n",
    "\n",
    "# Get the parent directory\n",
    "parent = p.parent\n",
    "\n",
    "# Get the file name\n",
    "name = p.name\n",
    "\n",
    "# Get the file stem (name without extension)\n",
    "stem = p.stem\n",
    "\n",
    "# Get the file extension\n",
    "suffix = p.suffix\n",
    "\n",
    "print(parent)  # outputs: '/path/to/directory'\n",
    "print(name)  # outputs: 'my_file.txt'\n",
    "print(stem)  # outputs: 'my_file'\n",
    "print(suffix)  # outputs: '.txt'"
   ]
  },
  {
   "attachments": {},
   "cell_type": "markdown",
   "metadata": {},
   "source": [
    "## 5. Checking Path Properties\n",
    "\n",
    "You can check if a path exists, if it's a file or if it's a directory:"
   ]
  },
  {
   "cell_type": "code",
   "execution_count": 5,
   "metadata": {},
   "outputs": [
    {
     "name": "stdout",
     "output_type": "stream",
     "text": [
      "False\n",
      "False\n",
      "False\n"
     ]
    }
   ],
   "source": [
    "p = Path('/path/to/directory/my_file.txt')\n",
    "\n",
    "# Check if the path exists\n",
    "print(p.exists())  # e.g., outputs: True\n",
    "\n",
    "# Check if the path is a directory\n",
    "print(p.is_dir())  # e.g., outputs: False\n",
    "\n",
    "# Check if the path is a file\n",
    "print(p.is_file())  # e.g., outputs: True"
   ]
  },
  {
   "attachments": {},
   "cell_type": "markdown",
   "metadata": {},
   "source": [
    "## 6. Reading and Writing Files\n",
    "\n",
    "You can read and write files (although it is preferred to use the built-in open() function):"
   ]
  },
  {
   "cell_type": "code",
   "execution_count": 6,
   "metadata": {},
   "outputs": [
    {
     "name": "stdout",
     "output_type": "stream",
     "text": [
      "Hello, world!\n"
     ]
    }
   ],
   "source": [
    "p = Path('my_file.txt')\n",
    "\n",
    "# Write to a file\n",
    "p.write_text('Hello, world!')\n",
    "\n",
    "# Read from a file\n",
    "text = p.read_text()\n",
    "\n",
    "print(text)  # outputs: 'Hello, world!'"
   ]
  },
  {
   "attachments": {},
   "cell_type": "markdown",
   "metadata": {},
   "source": [
    "## 7. Creating Directories\n",
    "\n",
    "creates the folder and all parent folders if needed, without raising an error if it already exists"
   ]
  },
  {
   "cell_type": "code",
   "execution_count": 7,
   "metadata": {},
   "outputs": [],
   "source": [
    "folder = Path('my_folder')\n",
    "\n",
    "folder.mkdir(exist_ok=True, parents=True)  "
   ]
  },
  {
   "attachments": {},
   "cell_type": "markdown",
   "metadata": {},
   "source": [
    "The `pathlib` module provides a more comfortable way to work with paths compared to the `os.path` module. It's especially helpful if you're working with paths where the directory separator changes between operating systems, because it always uses the correct one automatically."
   ]
  }
 ],
 "metadata": {
  "kernelspec": {
   "display_name": "Python 3",
   "language": "python",
   "name": "python3"
  },
  "language_info": {
   "codemirror_mode": {
    "name": "ipython",
    "version": 3
   },
   "file_extension": ".py",
   "mimetype": "text/x-python",
   "name": "python",
   "nbconvert_exporter": "python",
   "pygments_lexer": "ipython3",
   "version": "3.9.17"
  },
  "orig_nbformat": 4
 },
 "nbformat": 4,
 "nbformat_minor": 2
}
