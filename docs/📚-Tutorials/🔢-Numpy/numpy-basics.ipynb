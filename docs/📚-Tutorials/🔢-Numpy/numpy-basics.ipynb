{
 "cells": [
  {
   "cell_type": "markdown",
   "metadata": {},
   "source": [
    "# 🔢 Numpy Basics"
   ]
  },
  {
   "cell_type": "markdown",
   "metadata": {},
   "source": [
    "**NumPy** (Numerical Python) is a powerful library **for numerical computations** in Python. It provides support for large, **multi-dimensional arrays** and matrices, along with a collection of **functions to operate on these arrays** efficiently. This tutorial will introduce you to the basics of NumPy and guide you through the process of creating arrays.\n",
    "\n",
    "\n",
    "Once installed, you can import the NumPy library into your Python script using the following statement:"
   ]
  },
  {
   "cell_type": "code",
   "execution_count": 1,
   "metadata": {},
   "outputs": [],
   "source": [
    "import numpy as np"
   ]
  },
  {
   "cell_type": "markdown",
   "metadata": {},
   "source": [
    "The `np` alias is commonly used for NumPy to save typing."
   ]
  },
  {
   "cell_type": "markdown",
   "metadata": {},
   "source": [
    "## 1. Creating Arrays\n",
    "\n",
    "**NumPy arrays are the fundamental data structure in NumPy.** They are homogeneous, meaning **all elements** in an array must have the **same data type**."
   ]
  },
  {
   "cell_type": "markdown",
   "metadata": {},
   "source": [
    "### 1.1 From a Python List\n",
    "\n",
    "One of the most common ways to create a NumPy **array** is by **converting** a Python **list**. Here's an example:"
   ]
  },
  {
   "cell_type": "code",
   "execution_count": 2,
   "metadata": {},
   "outputs": [
    {
     "data": {
      "text/plain": [
       "(array([1, 2, 3, 4, 5]), list, numpy.ndarray)"
      ]
     },
     "execution_count": 2,
     "metadata": {},
     "output_type": "execute_result"
    }
   ],
   "source": [
    "import numpy as np\n",
    "\n",
    "my_list = [1, 2, 3, 4, 5]\n",
    "my_array = np.array(my_list)\n",
    "my_array, type(my_list), type(my_array)"
   ]
  },
  {
   "cell_type": "markdown",
   "metadata": {},
   "source": [
    "### 1.2. Using Built-in Functions\n",
    "\n",
    "NumPy provides several built-in functions to create arrays with specific properties. Some commonly used functions include:\n",
    "\n",
    "- `np.zeros(shape)`: Creates an array filled with zeros.\n",
    "- `np.ones(shape)`: Creates an array filled with ones.\n",
    "- `np.full(shape, value)`: Creates an array filled with a specified value.\n",
    "- `np.arange(start, stop, step)`: Creates an array with a range of values.\n",
    "- `np.linspace(start, stop, num)`: Creates an array with evenly spaced values.\n",
    "\n",
    "Here are some examples:"
   ]
  },
  {
   "cell_type": "code",
   "execution_count": 3,
   "metadata": {},
   "outputs": [
    {
     "name": "stdout",
     "output_type": "stream",
     "text": [
      "Array of zeros:\n",
      " [[0. 0. 0.]\n",
      " [0. 0. 0.]]\n",
      "Array of ones:\n",
      " [[1. 1. 1.]\n",
      " [1. 1. 1.]\n",
      " [1. 1. 1.]]\n",
      "Array of sevens:\n",
      " [[7 7]\n",
      " [7 7]]\n",
      "Array of range:\n",
      " [0 2 4 6 8]\n",
      "Array of linspace:\n",
      " [0.   0.25 0.5  0.75 1.  ]\n"
     ]
    }
   ],
   "source": [
    "import numpy as np\n",
    "\n",
    "zeros_array = np.zeros((2, 3))    # 2x3 array of zeros\n",
    "ones_array = np.ones((3, 3))      # 3x3 array of ones\n",
    "full_array = np.full((2, 2), 7)    # 2x2 array filled with 7\n",
    "range_array = np.arange(0, 10, 2)  # array with values from 0 to 8 with a step of 2\n",
    "linspace_array = np.linspace(0, 1, 5)  # array with 5 evenly spaced values between 0 and 1\n",
    "\n",
    "print(\"Array of zeros:\\n\", zeros_array)\n",
    "print(\"Array of ones:\\n\", ones_array)\n",
    "print(\"Array of sevens:\\n\", full_array)\n",
    "print(\"Array of range:\\n\", range_array)\n",
    "print(\"Array of linspace:\\n\", linspace_array)"
   ]
  },
  {
   "cell_type": "markdown",
   "metadata": {},
   "source": [
    "### 1.3. Generating Random Arrays:\n",
    "\n",
    "NumPy provides functions to generate **arrays** with **random values**. Here's an example:"
   ]
  },
  {
   "cell_type": "code",
   "execution_count": 4,
   "metadata": {},
   "outputs": [
    {
     "data": {
      "text/plain": [
       "array([[0.12877505, 0.37812433, 0.94988499],\n",
       "       [0.35069467, 0.73255702, 0.42488187]])"
      ]
     },
     "execution_count": 4,
     "metadata": {},
     "output_type": "execute_result"
    }
   ],
   "source": [
    "import numpy as np\n",
    "\n",
    "random_array = np.random.rand(2, 3)  # 2x3 array with random values between 0 and 1\n",
    "random_array"
   ]
  },
  {
   "cell_type": "markdown",
   "metadata": {},
   "source": [
    "### 1.4. Creating Special Arrays:\n",
    "\n",
    "NumPy also offers functions to create **special types** of arrays, such as **identity matrices** and **diagonal matrices**. Here's an example:"
   ]
  },
  {
   "cell_type": "code",
   "execution_count": 6,
   "metadata": {},
   "outputs": [
    {
     "name": "stdout",
     "output_type": "stream",
     "text": [
      "Identity matrix:\n",
      " [[1. 0. 0.]\n",
      " [0. 1. 0.]\n",
      " [0. 0. 1.]]\n",
      "Diagonal matrix:\n",
      " [[1 0 0]\n",
      " [0 2 0]\n",
      " [0 0 3]]\n"
     ]
    }
   ],
   "source": [
    "import numpy as np\n",
    "\n",
    "identity_matrix = np.eye(3)  # 3x3 identity matrix\n",
    "diagonal_matrix = np.diag([1, 2, 3])  # diagonal matrix with [1, 2, 3] as diagonal elements\n",
    "\n",
    "print(\"Identity matrix:\\n\", identity_matrix)\n",
    "print(\"Diagonal matrix:\\n\", diagonal_matrix)"
   ]
  },
  {
   "cell_type": "markdown",
   "metadata": {},
   "source": [
    "You have learned the basics of NumPy and how to create arrays using various methods. NumPy provides a wide range of array manipulation and mathematical operations, making it an essential library for scientific computing in Python. Experiment with different array creation techniques and explore the NumPy documentation to further enhance your knowledge.\n",
    "\n",
    "Remember to check the official NumPy documentation for more details: https://numpy.org/doc/"
   ]
  }
 ],
 "metadata": {
  "kernelspec": {
   "display_name": "Python 3",
   "language": "python",
   "name": "python3"
  },
  "language_info": {
   "codemirror_mode": {
    "name": "ipython",
    "version": 3
   },
   "file_extension": ".py",
   "mimetype": "text/x-python",
   "name": "python",
   "nbconvert_exporter": "python",
   "pygments_lexer": "ipython3",
   "version": "3.9.17"
  },
  "orig_nbformat": 4
 },
 "nbformat": 4,
 "nbformat_minor": 2
}
