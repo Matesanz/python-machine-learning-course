{
 "cells": [
  {
   "cell_type": "markdown",
   "metadata": {},
   "source": [
    "# 🔢 NumPy Common Functions"
   ]
  },
  {
   "cell_type": "markdown",
   "metadata": {},
   "source": [
    "NumPy, or Numerical Python, is a powerful library for numerical computations in Python. This tutorial will cover some of the most commonly used functions in NumPy.\n",
    "\n",
    "## 1. Creating Arrays\n",
    "\n",
    "First, let's look at how to create arrays using NumPy."
   ]
  },
  {
   "cell_type": "code",
   "execution_count": 2,
   "metadata": {},
   "outputs": [
    {
     "name": "stdout",
     "output_type": "stream",
     "text": [
      "1D Array: [1 2 3 4 5]\n",
      "2D Array:\n",
      " [[1 2 3]\n",
      " [4 5 6]]\n"
     ]
    }
   ],
   "source": [
    "import numpy as np\n",
    "\n",
    "# Create a 1D array\n",
    "arr1 = np.array([1, 2, 3, 4, 5])\n",
    "print(\"1D Array:\", arr1)\n",
    "\n",
    "# Create a 2D array\n",
    "arr2 = np.array([[1, 2, 3], [4, 5, 6]])\n",
    "print(\"2D Array:\\n\", arr2)"
   ]
  },
  {
   "cell_type": "markdown",
   "metadata": {},
   "source": [
    "## 2. Array Operations\n",
    "\n",
    "NumPy allows you to perform element-wise operations on arrays, such as addition, subtraction, multiplication, and division."
   ]
  },
  {
   "cell_type": "code",
   "execution_count": 3,
   "metadata": {},
   "outputs": [
    {
     "name": "stdout",
     "output_type": "stream",
     "text": [
      "Addition:\n",
      " [ 2  4  6  8 10]\n",
      "Subtraction:\n",
      " [0 0 0 0 0]\n",
      "Multiplication:\n",
      " [ 1  4  9 16 25]\n",
      "Division:\n",
      " [1. 1. 1. 1. 1.]\n"
     ]
    }
   ],
   "source": [
    "# Element-wise addition\n",
    "print(\"Addition:\\n\", arr1 + arr1)\n",
    "\n",
    "# Element-wise subtraction\n",
    "print(\"Subtraction:\\n\", arr1 - arr1)\n",
    "\n",
    "# Element-wise multiplication\n",
    "print(\"Multiplication:\\n\", arr1 * arr1)\n",
    "\n",
    "# Element-wise division\n",
    "print(\"Division:\\n\", arr1 / arr1)"
   ]
  },
  {
   "cell_type": "markdown",
   "metadata": {},
   "source": [
    "## 3. Mathematical Functions\n",
    "\n",
    "NumPy provides a wide variety of mathematical functions."
   ]
  },
  {
   "cell_type": "code",
   "execution_count": 4,
   "metadata": {},
   "outputs": [
    {
     "name": "stdout",
     "output_type": "stream",
     "text": [
      "Square root:\n",
      " [1.         1.41421356 1.73205081 2.         2.23606798]\n",
      "Exponential:\n",
      " [  2.71828183   7.3890561   20.08553692  54.59815003 148.4131591 ]\n",
      "Natural logarithm:\n",
      " [0.         0.69314718 1.09861229 1.38629436 1.60943791]\n",
      "Base 2 logarithm:\n",
      " [0.         1.         1.5849625  2.         2.32192809]\n",
      "Base 10 logarithm:\n",
      " [0.         0.30103    0.47712125 0.60205999 0.69897   ]\n",
      "Sin:\n",
      " [ 0.84147098  0.90929743  0.14112001 -0.7568025  -0.95892427]\n",
      "Cos:\n",
      " [ 0.54030231 -0.41614684 -0.9899925  -0.65364362  0.28366219]\n",
      "Tan:\n",
      " [ 1.55740772 -2.18503986 -0.14254654  1.15782128 -3.38051501]\n"
     ]
    }
   ],
   "source": [
    "# Square root\n",
    "print(\"Square root:\\n\", np.sqrt(arr1))\n",
    "\n",
    "# Exponential (base e)\n",
    "print(\"Exponential:\\n\", np.exp(arr1))\n",
    "\n",
    "# Logarithm base e, 2 and 10\n",
    "print(\"Natural logarithm:\\n\", np.log(arr1))\n",
    "print(\"Base 2 logarithm:\\n\", np.log2(arr1))\n",
    "print(\"Base 10 logarithm:\\n\", np.log10(arr1))\n",
    "\n",
    "# Trigonometric functions\n",
    "print(\"Sin:\\n\", np.sin(arr1))\n",
    "print(\"Cos:\\n\", np.cos(arr1))\n",
    "print(\"Tan:\\n\", np.tan(arr1))"
   ]
  },
  {
   "cell_type": "markdown",
   "metadata": {},
   "source": [
    "## 4. Statistical Functions\n",
    "\n",
    "NumPy provides functions to compute statistics of datasets."
   ]
  },
  {
   "cell_type": "code",
   "execution_count": 5,
   "metadata": {},
   "outputs": [
    {
     "name": "stdout",
     "output_type": "stream",
     "text": [
      "Mean: 3.0\n",
      "Standard Deviation: 1.4142135623730951\n",
      "Variance: 2.0\n",
      "Min: 1\n",
      "Max: 5\n",
      "Sum: 15\n",
      "Product: 120\n"
     ]
    }
   ],
   "source": [
    "# Mean\n",
    "print(\"Mean:\", np.mean(arr1))\n",
    "\n",
    "# Standard deviation\n",
    "print(\"Standard Deviation:\", np.std(arr1))\n",
    "\n",
    "# Variance\n",
    "print(\"Variance:\", np.var(arr1))\n",
    "\n",
    "# Min and Max\n",
    "print(\"Min:\", np.min(arr1))\n",
    "print(\"Max:\", np.max(arr1))\n",
    "\n",
    "# Sum and Product\n",
    "print(\"Sum:\", np.sum(arr1))\n",
    "print(\"Product:\", np.prod(arr1))"
   ]
  },
  {
   "cell_type": "markdown",
   "metadata": {},
   "source": [
    "## 5. Linear Algebra Functions\n",
    "\n",
    "NumPy also supports a number of linear algebra functions."
   ]
  },
  {
   "cell_type": "code",
   "execution_count": 6,
   "metadata": {},
   "outputs": [
    {
     "name": "stdout",
     "output_type": "stream",
     "text": [
      "Dot Product: 55\n",
      "Matrix Multiplication:\n",
      " [[14 32]\n",
      " [32 77]]\n",
      "Determinant: -2.0000000000000004\n",
      "Inverse:\n",
      " [[-2.   1. ]\n",
      " [ 1.5 -0.5]]\n",
      "Eigenvalues: [-0.37228132  5.37228132]\n",
      "Solution to linear system: [-4.   4.5]\n"
     ]
    }
   ],
   "source": [
    "# Dot product\n",
    "print(\"Dot Product:\", np.dot(arr1, arr1))\n",
    "\n",
    "# Matrix multiplication\n",
    "print(\"Matrix Multiplication:\\n\", np.matmul(arr2, arr2.T)) # .T for transpose\n",
    "\n",
    "# Determinant, Inverse, Eigenvalues\n",
    "arr3 = np.array([[1, 2], [3, 4]])\n",
    "print(\"Determinant:\", np.linalg.det(arr3))\n",
    "print(\"Inverse:\\n\", np.linalg.inv(arr3))\n",
    "print(\"Eigenvalues:\", np.linalg.eigvals(arr3))\n",
    "\n",
    "# Solve linear system\n",
    "arr4 = np.array([5, 6])\n",
    "print(\"Solution to linear system:\", np.linalg.solve(arr3, arr4))"
   ]
  },
  {
   "cell_type": "markdown",
   "metadata": {},
   "source": [
    "This is just the tip of the iceberg of what NumPy can do. It provides a powerful and efficient way to perform numerical operations in Python. It's also the foundation for many other scientific computing packages in Python, such as SciPy and pandas. By mastering NumPy, you'll be well on your way to doing scientific computing with Python."
   ]
  }
 ],
 "metadata": {
  "kernelspec": {
   "display_name": "Python 3",
   "language": "python",
   "name": "python3"
  },
  "language_info": {
   "codemirror_mode": {
    "name": "ipython",
    "version": 3
   },
   "file_extension": ".py",
   "mimetype": "text/x-python",
   "name": "python",
   "nbconvert_exporter": "python",
   "pygments_lexer": "ipython3",
   "version": "3.9.17"
  },
  "orig_nbformat": 4
 },
 "nbformat": 4,
 "nbformat_minor": 2
}
