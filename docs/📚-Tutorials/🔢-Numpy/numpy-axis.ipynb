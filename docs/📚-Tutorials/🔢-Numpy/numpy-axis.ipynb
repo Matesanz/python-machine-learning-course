{
 "cells": [
  {
   "cell_type": "markdown",
   "metadata": {},
   "source": [
    "# 🔢 NumPy Axes\n",
    "\n",
    "The NumPy library in Python is a powerful tool for working with numerical data. Understanding how NumPy handles axes for vectors, matrices, and multidimensional arrays is key to efficiently manipulating data in these structures. Let's dive into it.\n",
    "\n",
    "## 1. Understanding Axes in NumPy\n",
    "\n",
    "An 'axis' in NumPy refers to a dimension of a multi-dimensional array. The axes are defined for arrays with more than one dimension (i.e., matrices, or arrays with 3 or more dimensions). A 2-dimensional array has two axes: the first running vertically downwards across rows (axis 0), and the second running horizontally across columns (axis 1).\n",
    "\n",
    "![Numpy axes](https://predictivehacks.com/wp-content/uploads/2020/08/numpy_arrays-1024x572.png)\n",
    "\n",
    "### 1.1 1-D Arrays (Vectors)\n",
    "\n",
    "For 1-D arrays (vectors), there is only one axis (axis 0). The axis 0 is defined along the direction that increases the index of the elements."
   ]
  },
  {
   "cell_type": "code",
   "execution_count": 9,
   "metadata": {},
   "outputs": [
    {
     "name": "stdout",
     "output_type": "stream",
     "text": [
      "Original array:\n",
      " [1 2 3 4 5]\n",
      "Shape of array:  (5,) \n",
      "\n",
      "Sum:  15\n",
      "Min:  1\n",
      "Max:  5\n",
      "Mean:  3.0\n"
     ]
    }
   ],
   "source": [
    "import numpy as np\n",
    "\n",
    "# 1-D array\n",
    "arr = np.array([1, 2, 3, 4, 5])\n",
    "print(\"Original array:\\n\", arr)\n",
    "print(\"Shape of array: \", arr.shape, \"\\n\")\n",
    "\n",
    "# Operations along the axis\n",
    "print(\"Sum: \", np.sum(arr, axis=0))\n",
    "print(\"Min: \", np.min(arr, axis=0))\n",
    "print(\"Max: \", np.max(arr, axis=0))\n",
    "print(\"Mean: \", np.mean(arr, axis=0))"
   ]
  },
  {
   "cell_type": "markdown",
   "metadata": {},
   "source": [
    "### 1.2 2-D Arrays (Matrices)\n",
    "\n",
    "For 2-D arrays (matrices), there are two axes: axis 0 runs vertically down the rows and axis 1 runs horizontally across the columns."
   ]
  },
  {
   "cell_type": "code",
   "execution_count": 7,
   "metadata": {},
   "outputs": [
    {
     "name": "stdout",
     "output_type": "stream",
     "text": [
      "Original array:\n",
      " [[1 2 3]\n",
      " [4 5 6]\n",
      " [7 8 9]]\n",
      "Shape of array:  (3, 3) \n",
      "\n",
      "Sum along axis 0:\n",
      " [12 15 18]\n",
      "Min along axis 0:\n",
      " [1 2 3]\n",
      "Max along axis 0:\n",
      " [7 8 9]\n",
      "Mean along axis 0:\n",
      " [4. 5. 6.]\n",
      "Sum along axis 1:\n",
      " [ 6 15 24]\n",
      "Min along axis 1:\n",
      " [1 4 7]\n",
      "Max along axis 1:\n",
      " [3 6 9]\n",
      "Mean along axis 1:\n",
      " [2. 5. 8.]\n"
     ]
    }
   ],
   "source": [
    "# 2-D array\n",
    "arr = np.array([[1, 2, 3], [4, 5, 6], [7, 8, 9]])\n",
    "print(\"Original array:\\n\", arr)\n",
    "print(\"Shape of array: \", arr.shape, \"\\n\")\n",
    "\n",
    "# Operations along axis 0\n",
    "print(\"Sum along axis 0:\\n\", np.sum(arr, axis=0))\n",
    "print(\"Min along axis 0:\\n\", np.min(arr, axis=0))\n",
    "print(\"Max along axis 0:\\n\", np.max(arr, axis=0))\n",
    "print(\"Mean along axis 0:\\n\", np.mean(arr, axis=0))\n",
    "\n",
    "# Operations along axis 1\n",
    "print(\"Sum along axis 1:\\n\", np.sum(arr, axis=1))\n",
    "print(\"Min along axis 1:\\n\", np.min(arr, axis=1))\n",
    "print(\"Max along axis 1:\\n\", np.max(arr, axis=1))\n",
    "print(\"Mean along axis 1:\\n\", np.mean(arr, axis=1))"
   ]
  },
  {
   "cell_type": "markdown",
   "metadata": {},
   "source": [
    "### 1.3 3-D Arrays\n",
    "\n",
    "For 3-D arrays, there are three axes: axis 0 (depth), axis 1 (rows), and axis 2 (columns). Axis 0 is the depth dimension (think of each 2-D array in the 3-D array as a slice of depth), axis 1 is the vertical dimension, and axis 2 is the horizontal dimension."
   ]
  },
  {
   "cell_type": "code",
   "execution_count": 10,
   "metadata": {},
   "outputs": [
    {
     "name": "stdout",
     "output_type": "stream",
     "text": [
      "Original array:\n",
      " [[[ 1  2  3]\n",
      "  [ 4  5  6]]\n",
      "\n",
      " [[ 7  8  9]\n",
      "  [10 11 12]]]\n",
      "Shape of array:  (2, 2, 3) \n",
      "\n",
      "Sum along axis 0:\n",
      " [[ 8 10 12]\n",
      " [14 16 18]]\n",
      "Min along axis 0:\n",
      " [[1 2 3]\n",
      " [4 5 6]]\n",
      "Max along axis 0:\n",
      " [[ 7  8  9]\n",
      " [10 11 12]]\n",
      "Mean along axis 0:\n",
      " [[4. 5. 6.]\n",
      " [7. 8. 9.]]\n",
      "Sum along axis 1:\n",
      " [[ 5  7  9]\n",
      " [17 19 21]]\n",
      "Min along axis 1:\n",
      " [[1 2 3]\n",
      " [7 8 9]]\n",
      "Max along axis 1:\n",
      " [[ 4  5  6]\n",
      " [10 11 12]]\n",
      "Mean along axis 1:\n",
      " [[ 2.5  3.5  4.5]\n",
      " [ 8.5  9.5 10.5]]\n",
      "Sum along axis 2:\n",
      " [[ 6 15]\n",
      " [24 33]]\n",
      "Min along axis 2:\n",
      " [[ 1  4]\n",
      " [ 7 10]]\n",
      "Max along axis 2:\n",
      " [[ 3  6]\n",
      " [ 9 12]]\n",
      "Mean along axis 2:\n",
      " [[ 2.  5.]\n",
      " [ 8. 11.]]\n"
     ]
    }
   ],
   "source": [
    "# 3-D array\n",
    "arr = np.array([[[1, 2, 3], [4, 5, 6]], [[7, 8, 9], [10, 11, 12]]])\n",
    "print(\"Original array:\\n\", arr)\n",
    "print(\"Shape of array: \", arr.shape, \"\\n\")\n",
    "\n",
    "# Operations along axis 0\n",
    "print(\"Sum along axis 0:\\n\", np.sum(arr, axis=0))\n",
    "print(\"Min along axis 0:\\n\", np.min(arr, axis=0))\n",
    "print(\"Max along axis 0:\\n\", np.max(arr, axis=0))\n",
    "print(\"Mean along axis 0:\\n\", np.mean(arr, axis=0))\n",
    "\n",
    "# Operations along axis 1\n",
    "print(\"Sum along axis 1:\\n\", np.sum(arr, axis=1))\n",
    "print(\"Min along axis 1:\\n\", np.min(arr, axis=1))\n",
    "print(\"Max along axis 1:\\n\", np.max(arr, axis=1))\n",
    "print(\"Mean along axis 1:\\n\", np.mean(arr, axis=1))\n",
    "\n",
    "# Operations along axis 2\n",
    "print(\"Sum along axis 2:\\n\", np.sum(arr, axis=2))\n",
    "print(\"Min along axis 2:\\n\", np.min(arr, axis=2))\n",
    "print(\"Max along axis 2:\\n\", np.max(arr, axis=2))\n",
    "print(\"Mean along axis 2:\\n\", np.mean(arr, axis=2))"
   ]
  },
  {
   "cell_type": "markdown",
   "metadata": {},
   "source": [
    "\n",
    "By understanding axes in NumPy, you will be able to perform operations along any given dimension of an array. The axis parameter in various functions can be used to specify the dimension along which the operation is to be performed. This can be particularly useful when performing operations on multidimensional data, where you might want to perform calculations along a specific dimension, such as summing the values across rows or columns, finding max or min values, computing the mean, and more."
   ]
  }
 ],
 "metadata": {
  "kernelspec": {
   "display_name": "Python 3",
   "language": "python",
   "name": "python3"
  },
  "language_info": {
   "codemirror_mode": {
    "name": "ipython",
    "version": 3
   },
   "file_extension": ".py",
   "mimetype": "text/x-python",
   "name": "python",
   "nbconvert_exporter": "python",
   "pygments_lexer": "ipython3",
   "version": "3.9.17"
  },
  "orig_nbformat": 4
 },
 "nbformat": 4,
 "nbformat_minor": 2
}
