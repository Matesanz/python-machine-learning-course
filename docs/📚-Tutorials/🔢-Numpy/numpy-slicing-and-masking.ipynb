{
 "cells": [
  {
   "cell_type": "markdown",
   "metadata": {},
   "source": [
    "# 🔢 Numpy Slicing and Masking"
   ]
  },
  {
   "cell_type": "markdown",
   "metadata": {},
   "source": [
    "NumPy, short for Numerical Python, is an essential Python library for performing mathematical and logical operations on arrays. In this tutorial, we'll cover two important techniques for data manipulation in NumPy: slicing and masking.\n",
    "\n",
    "## 1. Slicing\n",
    "\n",
    "Just like Python's list, NumPy arrays can be sliced. As arrays can be multidimensional, you need to specify a slice for each dimension of the array."
   ]
  },
  {
   "cell_type": "code",
   "execution_count": 1,
   "metadata": {},
   "outputs": [
    {
     "name": "stdout",
     "output_type": "stream",
     "text": [
      "1D Array: [1 2 3 4 5]\n",
      "Sliced Array: [2 3 4]\n",
      "2D Array:\n",
      " [[1 2 3]\n",
      " [4 5 6]\n",
      " [7 8 9]]\n",
      "First row:\n",
      " [1 2 3]\n",
      "First column:\n",
      " [1 4 7]\n",
      "Submatrix:\n",
      " [[2 3]\n",
      " [5 6]]\n"
     ]
    }
   ],
   "source": [
    "import numpy as np\n",
    "\n",
    "# Create a 1D array\n",
    "arr1 = np.array([1, 2, 3, 4, 5])\n",
    "print(\"1D Array:\", arr1)\n",
    "\n",
    "# Slice elements from 1st to 4th position\n",
    "print(\"Sliced Array:\", arr1[1:4])\n",
    "\n",
    "# Create a 2D array\n",
    "arr2 = np.array([[1, 2, 3], [4, 5, 6], [7, 8, 9]])\n",
    "print(\"2D Array:\\n\", arr2)\n",
    "\n",
    "# Slice a specific row\n",
    "print(\"First row:\\n\", arr2[0])\n",
    "\n",
    "# Slice a specific column\n",
    "print(\"First column:\\n\", arr2[:, 0])\n",
    "\n",
    "# Slice a submatrix\n",
    "print(\"Submatrix:\\n\", arr2[0:2, 1:3])"
   ]
  },
  {
   "cell_type": "markdown",
   "metadata": {},
   "source": [
    "Array masking is a powerful feature in NumPy that allows you to manipulate and analyze your data based on certain conditions. This tutorial will cover array masking and also introduce `np.where`, a function that can be extremely helpful in conjunction with masks.\n",
    "\n",
    "## 2. Masking in NumPy\n",
    "\n",
    "A mask is essentially a boolean array that can be used to \"mask\" or \"hide\" certain values in an array."
   ]
  },
  {
   "cell_type": "code",
   "execution_count": 2,
   "metadata": {},
   "outputs": [
    {
     "name": "stdout",
     "output_type": "stream",
     "text": [
      "Mask: [False False False False False  True  True  True  True  True]\n"
     ]
    }
   ],
   "source": [
    "import numpy as np\n",
    "\n",
    "# Create an array\n",
    "arr = np.array([1, 2, 3, 4, 5, 6, 7, 8, 9, 10])\n",
    "\n",
    "# Create a mask\n",
    "mask = arr > 5\n",
    "print(\"Mask:\", mask)"
   ]
  },
  {
   "cell_type": "markdown",
   "metadata": {},
   "source": [
    "This will create a boolean mask where each element of the mask will be `True` if the corresponding element in the array is greater than 5 and `False` otherwise.\n",
    "\n",
    "You can use this mask to index into your original array, which will return a new array with only the values where the mask is `True`."
   ]
  },
  {
   "cell_type": "code",
   "execution_count": 3,
   "metadata": {},
   "outputs": [
    {
     "name": "stdout",
     "output_type": "stream",
     "text": [
      "Filtered Array: [ 6  7  8  9 10]\n"
     ]
    }
   ],
   "source": [
    "# Using the mask to index into the array\n",
    "filtered_arr = arr[mask]\n",
    "print(\"Filtered Array:\", filtered_arr)"
   ]
  },
  {
   "cell_type": "markdown",
   "metadata": {},
   "source": [
    "## 2.1 Modifying Values with a Mask\n",
    "\n",
    "You can also modify the values in your original array using a mask. This can be useful if you want to apply changes to certain elements in your array based on a condition."
   ]
  },
  {
   "cell_type": "code",
   "execution_count": 4,
   "metadata": {},
   "outputs": [
    {
     "name": "stdout",
     "output_type": "stream",
     "text": [
      "Modified Array: [ 1  2  3  4  5 99 99 99 99 99]\n"
     ]
    }
   ],
   "source": [
    "# Modifying elements of the array using a mask\n",
    "arr[mask] = 99\n",
    "print(\"Modified Array:\", arr)"
   ]
  },
  {
   "cell_type": "markdown",
   "metadata": {},
   "source": [
    "## 2.2 `np.where`\n",
    "\n",
    "`np.where` is a function that returns the indices of elements in an input array where the given condition is satisfied. If we pass the condition directly, it can be used as a masking operation."
   ]
  },
  {
   "cell_type": "code",
   "execution_count": 5,
   "metadata": {},
   "outputs": [
    {
     "name": "stdout",
     "output_type": "stream",
     "text": [
      "Indices: (array([5, 6, 7, 8, 9]),)\n",
      "Filtered Array: [ 6  7  8  9 10]\n"
     ]
    }
   ],
   "source": [
    "# Create an array\n",
    "arr = np.array([1, 2, 3, 4, 5, 6, 7, 8, 9, 10])\n",
    "\n",
    "# Use np.where to create a mask and filter the array\n",
    "indices = np.where(arr > 5)\n",
    "print(\"Indices:\", indices)\n",
    "\n",
    "filtered_arr = arr[indices]\n",
    "print(\"Filtered Array:\", filtered_arr)"
   ]
  },
  {
   "cell_type": "markdown",
   "metadata": {},
   "source": [
    "You can also use `np.where` with three arguments to return a new array that replaces elements where the condition is `True` or `False`."
   ]
  },
  {
   "cell_type": "code",
   "execution_count": 6,
   "metadata": {},
   "outputs": [
    {
     "name": "stdout",
     "output_type": "stream",
     "text": [
      "New Array: [ 1  2  3  4  5 99 99 99 99 99]\n"
     ]
    }
   ],
   "source": [
    "# Use np.where to replace elements based on a condition\n",
    "new_arr = np.where(arr > 5, 99, arr)\n",
    "print(\"New Array:\", new_arr)"
   ]
  },
  {
   "cell_type": "markdown",
   "metadata": {},
   "source": [
    "In this case, `np.where` will replace elements where the condition `arr > 5` is `True` with `99`, and all other elements with their original values.\n",
    "\n",
    "By combining array masking and `np.where`, you can efficiently manipulate and analyze your NumPy arrays based on a wide variety of conditions, making your data processing tasks much more efficient and easy to handle."
   ]
  }
 ],
 "metadata": {
  "kernelspec": {
   "display_name": "Python 3",
   "language": "python",
   "name": "python3"
  },
  "language_info": {
   "codemirror_mode": {
    "name": "ipython",
    "version": 3
   },
   "file_extension": ".py",
   "mimetype": "text/x-python",
   "name": "python",
   "nbconvert_exporter": "python",
   "pygments_lexer": "ipython3",
   "version": "3.9.17"
  },
  "orig_nbformat": 4
 },
 "nbformat": 4,
 "nbformat_minor": 2
}
