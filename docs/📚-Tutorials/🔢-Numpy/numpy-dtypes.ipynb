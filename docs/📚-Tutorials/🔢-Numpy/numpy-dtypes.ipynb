{
 "cells": [
  {
   "cell_type": "markdown",
   "metadata": {},
   "source": [
    "# 🔢 Numpy Data Types"
   ]
  },
  {
   "cell_type": "markdown",
   "metadata": {},
   "source": [
    "NumPy, short for Numerical Python, is a library in Python that is often used for numerical computations. In this tutorial, we will explore a fundamental aspect of NumPy: data types (`dtypes`).\n",
    "\n",
    "## 1. What are NumPy dtypes?\n",
    "\n",
    "NumPy's array object, `ndarray`, is a grid that can hold values of the same data type (`dtype`). The `dtype` object is an instance of numpy.dtype class and it can be created using numpy.dtype.\n",
    "\n",
    "The `dtype` object describes the following aspects of the data:\n",
    "\n",
    "- Type of the data (integer, float, Python object, etc.)\n",
    "- Size of the data (number of bytes)\n",
    "- Byte order (little-endian or big-endian)\n",
    "- If the data type is a sub-array, its shape and data type\n",
    "- The data type's name\n",
    "\n",
    "## 2. Working with NumPy dtypes\n",
    "\n",
    "First, let's import NumPy."
   ]
  },
  {
   "cell_type": "code",
   "execution_count": 1,
   "metadata": {},
   "outputs": [],
   "source": [
    "import numpy as np"
   ]
  },
  {
   "cell_type": "markdown",
   "metadata": {},
   "source": [
    "### 2.1 Creating Arrays with Predefined dtypes\n",
    "\n",
    "You can define the `dtype` when you create the array."
   ]
  },
  {
   "cell_type": "code",
   "execution_count": 2,
   "metadata": {},
   "outputs": [
    {
     "data": {
      "text/plain": [
       "(array([1., 2., 3.]), dtype('float64'))"
      ]
     },
     "execution_count": 2,
     "metadata": {},
     "output_type": "execute_result"
    }
   ],
   "source": [
    "# Creating an array of float type\n",
    "arr = np.array([1, 2, 3], dtype='float')\n",
    "arr, arr.dtype"
   ]
  },
  {
   "cell_type": "markdown",
   "metadata": {},
   "source": [
    "### 2.2 Checking the dtype of an Array\n",
    "\n",
    "You can check the dtype of an array using the `dtype` attribute."
   ]
  },
  {
   "cell_type": "code",
   "execution_count": 3,
   "metadata": {},
   "outputs": [
    {
     "data": {
      "text/plain": [
       "dtype('int64')"
      ]
     },
     "execution_count": 3,
     "metadata": {},
     "output_type": "execute_result"
    }
   ],
   "source": [
    "arr = np.array([1, 2, 3])\n",
    "arr.dtype"
   ]
  },
  {
   "cell_type": "markdown",
   "metadata": {},
   "source": [
    "### 2.3 Converting Data Type on Existing Arrays\n",
    "\n",
    "Data type of existing arrays can be converted to another type using the `astype` function."
   ]
  },
  {
   "cell_type": "code",
   "execution_count": 4,
   "metadata": {},
   "outputs": [
    {
     "name": "stdout",
     "output_type": "stream",
     "text": [
      "[1.1 2.2 3.3]\n",
      "dtype before: float64\n",
      "[1 2 3]\n",
      "dtype after: int64\n"
     ]
    }
   ],
   "source": [
    "arr = np.array([1.1, 2.2, 3.3])\n",
    "print(arr)\n",
    "print(\"dtype before:\", arr.dtype)\n",
    "\n",
    "# Convert float to int\n",
    "arr = arr.astype('int')\n",
    "print(arr)\n",
    "print(\"dtype after:\", arr.dtype)"
   ]
  },
  {
   "cell_type": "markdown",
   "metadata": {},
   "source": [
    "## 3. Types of dtypes\n",
    "\n",
    "Here are some examples of numpy dtypes:\n",
    "\n",
    "- `bool`: Boolean values (True or False) stored as a byte.\n",
    "- `int`: Integer of variable size, also used for boolean types.\n",
    "- `intc`: Identical to C int (normally int32 or int64).\n",
    "- `intp`: Integer used for indexing (same as C ssize_t; normally either int32 or int64).\n",
    "- `int8`: Byte (-128 to 127).\n",
    "- `int16`: Integer (-32768 to 32767).\n",
    "- `int32`: Integer (-2147483648 to 2147483647).\n",
    "- `int64`: Integer (-9223372036854775808 to 9223372036854775807).\n",
    "- `uint8`: Unsigned integer (0 to 255).\n",
    "- `uint16`: Unsigned integer (0 to 65535).\n",
    "- `uint32`: Unsigned integer (0 to 4294967295).\n",
    "- `uint64`: Unsigned integer (0 to 18446744073709551615).\n",
    "- `float`: Shorthand for float64.\n",
    "- `float16`: Half precision float: sign bit, 5 bits exponent, 10 bits mantissa.\n",
    "- `float32`: Single precision float: sign bit, 8 bits exponent, 23 bits mantissa.\n",
    "- `float64`: Double precision float: sign bit, 11 bits exponent, 52 bits mantissa.\n",
    "- `complex`: Shorthand for complex128.\n",
    "- `complex64`: Complex number, represented by two 32-bit floats.\n",
    "- `complex128`: Complex number, represented by two 64-bit floats.\n",
    "\n",
    "This is by no means a comprehensive list. You can find the complete list of dtypes in the [NumPy documentation](https://numpy.org/doc/stable/user/basics.types.html).\n",
    "\n",
    "Remember, understanding how dtypes work in NumPy can help you make your code more efficient and take less memory. So it's worth spending time to get familiar with these concepts."
   ]
  }
 ],
 "metadata": {
  "kernelspec": {
   "display_name": "Python 3",
   "language": "python",
   "name": "python3"
  },
  "language_info": {
   "codemirror_mode": {
    "name": "ipython",
    "version": 3
   },
   "file_extension": ".py",
   "mimetype": "text/x-python",
   "name": "python",
   "nbconvert_exporter": "python",
   "pygments_lexer": "ipython3",
   "version": "3.9.17"
  },
  "orig_nbformat": 4
 },
 "nbformat": 4,
 "nbformat_minor": 2
}
