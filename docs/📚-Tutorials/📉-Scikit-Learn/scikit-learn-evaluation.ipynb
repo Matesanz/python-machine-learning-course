{
 "cells": [
  {
   "cell_type": "markdown",
   "metadata": {},
   "source": [
    "# 📉 Scikit-learn Model Evaluation\n",
    "\n",
    "In this tutorial, we'll cover different evaluation metrics commonly used to assess the performance of machine learning models. Understanding these metrics is crucial for selecting the right model and fine-tuning its parameters.\n",
    "\n",
    "We'll cover the following evaluation metrics:\n",
    "\n",
    "1. Accuracy\n",
    "2. Precision, Recall (Sensitivity), and Specificity\n",
    "3. F1 Score\n",
    "4. Confusion Matrix\n",
    "5. ROC Curve and AUC-ROC\n",
    "\n",
    "Let's get started!"
   ]
  },
  {
   "cell_type": "markdown",
   "metadata": {},
   "source": [
    "## 1. Load Data"
   ]
  },
  {
   "cell_type": "code",
   "execution_count": 17,
   "metadata": {},
   "outputs": [],
   "source": [
    "import numpy as np\n",
    "\n",
    "# Mocking y_true and y_pred for demonstration\n",
    "np.random.seed(42)\n",
    "y_true = np.random.randint(0, 2, size=100)  # Binary labels (0 or 1)\n",
    "y_pred = np.random.rand(100)  # Random predicted probabilities between 0 and 1\n",
    "\n",
    "# Converting probabilities to binary predictions\n",
    "y_pred = (y_pred >= 0.5).astype(int)"
   ]
  },
  {
   "cell_type": "markdown",
   "metadata": {},
   "source": [
    "## 2. Model Evaluation Metrics\n",
    "\n",
    "Imagine a **box** filled with **balls**: some are **blue**, and others are **not-blue**. Your task is to identify all the blue balls without mistakenly picking the not-blue ones. Here's how various metrics would help you assess your performance:\n",
    "\n",
    "![balls_metrics](https://github.com/Matesanz/python-machine-learning-course/blob/main/docs/assets/metrics/metrics_00.jpg?raw=True)"
   ]
  },
  {
   "cell_type": "markdown",
   "metadata": {},
   "source": [
    "### 2.1 Confusion Matrix\n",
    "\n",
    "The confusion matrix is a table that **describes the performance of a classification model**. It shows the counts of\n",
    "\n",
    "* **True Positive (TP):** The number of times the item was correctly identified as blue. In other words, it truly is blue, and the model/test also predicted it as blue.\n",
    "\n",
    "* **False Positive (FP):** The number of times the item was incorrectly identified as blue. This means the item is not actually blue, but the model/test mistakenly predicted it as blue.\n",
    "\n",
    "* **True Negative (TN):** The number of times the item was correctly identified as not being blue. So, it truly isn't blue, and the model/test correctly predicted it as not blue.\n",
    "\n",
    "* **False Negative (FN):** The number of times the item was incorrectly identified as not blue. This means the item is actually blue, but the model/test failed to recognize it and predicted it as not blue.\n",
    "\n",
    "![balls_metrics](https://github.com/Matesanz/python-machine-learning-course/blob/main/docs/assets/metrics/metrics_01.jpg?raw=True)\n"
   ]
  },
  {
   "cell_type": "code",
   "execution_count": 18,
   "metadata": {},
   "outputs": [
    {
     "data": {
      "image/png": "[encoded data removed]",
      "text/plain": [
       "<Figure size 800x600 with 2 Axes>"
      ]
     },
     "metadata": {},
     "output_type": "display_data"
    }
   ],
   "source": [
    "from sklearn.metrics import confusion_matrix\n",
    "import matplotlib.pyplot as plt\n",
    "import seaborn as sns\n",
    "\n",
    "# Generate a confusion matrix\n",
    "conf_matrix = confusion_matrix(y_true, y_pred)\n",
    "tn, fp, fn, tp = conf_matrix.ravel()\n",
    "\n",
    "# Plot confusion matrix using seaborn\n",
    "plt.figure(figsize=(8, 6))\n",
    "sns.heatmap(conf_matrix, annot=True, fmt=\"d\", cmap=\"Blues\", xticklabels=['Predicted 0', 'Predicted 1'], yticklabels=['True 0', 'True 1'])\n",
    "plt.title('Confusion Matrix')\n",
    "plt.show()"
   ]
  },
  {
   "cell_type": "markdown",
   "metadata": {},
   "source": [
    "### 2.2 Accuracy\n",
    "\n",
    "Accuracy is the most straightforward metric and represents **the percentage of correct predictions out of the total** predictions made by the model. Suppose out of 5 attempts, you correctly identify the color 4 times (whether it's blue or not-blue), then your accuracy is 80%. **It's about how often you're right in general.**\n",
    "\n",
    "![accuracy](https://github.com/Matesanz/python-machine-learning-course/blob/main/docs/assets/metrics/metrics_02.jpg?raw=True)\n"
   ]
  },
  {
   "cell_type": "code",
   "execution_count": 19,
   "metadata": {},
   "outputs": [
    {
     "name": "stdout",
     "output_type": "stream",
     "text": [
      "Accuracy: 0.54\n"
     ]
    }
   ],
   "source": [
    "from sklearn.metrics import accuracy_score\n",
    "\n",
    "# Calculate the accuracy of the model\n",
    "accuracy = accuracy_score(y_true, y_pred)\n",
    "print(f\"Accuracy: {accuracy:.2f}\")"
   ]
  },
  {
   "cell_type": "markdown",
   "metadata": {},
   "source": [
    "### 2.3 Precision\n",
    "\n",
    "Precision is proportion of **true positive predictions out of all positive predictions** made by the model. It measures the model's ability to avoid false positives Let's say when you guess a ball is blue, you want to be sure it really is blue. If you pick 3 balls thinking they're blue and only 2 of them are actually blue, your precision is 2/3 or about 67%. **It tells how often you're right when you claim a ball is blue.**\n",
    "\n",
    "![precision](https://github.com/Matesanz/python-machine-learning-course/blob/main/docs/assets/metrics/metrics_03.jpg?raw=True)"
   ]
  },
  {
   "cell_type": "code",
   "execution_count": 20,
   "metadata": {},
   "outputs": [
    {
     "name": "stdout",
     "output_type": "stream",
     "text": [
      "Precision: 0.60\n"
     ]
    }
   ],
   "source": [
    "from sklearn.metrics import precision_score\n",
    "\n",
    "\n",
    "precision = precision_score(y_true, y_pred)\n",
    "print(f\"Precision: {precision:.2f}\")"
   ]
  },
  {
   "cell_type": "markdown",
   "metadata": {},
   "source": [
    "### 2.4 Recall (Sensitivity)\n",
    "\n",
    "The proportion of **true positive predictions out of all actual positive samples** in the dataset. It measures the model's ability to find all positive samples. Now, think of the blue balls as \"important items\" you don’t want to overlook. If there are 3 blue balls in the box and you only identify 2 as blue, then your recall is 2/3 or about 70%. **This metric shows how many of the actual blue balls you successfully spotted.**\n",
    "\n",
    "![recall](https://github.com/Matesanz/python-machine-learning-course/blob/main/docs/assets/metrics/metrics_04.jpg?raw=True)"
   ]
  },
  {
   "cell_type": "code",
   "execution_count": 21,
   "metadata": {},
   "outputs": [
    {
     "name": "stdout",
     "output_type": "stream",
     "text": [
      "Recall: 0.52\n"
     ]
    }
   ],
   "source": [
    "from sklearn.metrics import recall_score\n",
    "\n",
    "\n",
    "recall = recall_score(y_true, y_pred)\n",
    "print(f\"Recall: {recall:.2f}\")"
   ]
  },
  {
   "cell_type": "markdown",
   "metadata": {},
   "source": [
    "### 2.5 **Specificity**\n",
    "\n",
    "The proportion of **true negative predictions out of all actual negative samples** in the dataset. It measures the model's ability to find all negative samples. Shifting focus to the not-blue balls: If there are 2 not-blue balls and you correctly identified 1 of them when searching for blue ones, your specificity is 50%. **It highlights how good you are at ignoring the not-blue distractions.**\n",
    "\n",
    "![Specificity](https://github.com/Matesanz/python-machine-learning-course/blob/main/docs/assets/metrics/metrics_05.jpg?raw=True?raw=True)"
   ]
  },
  {
   "cell_type": "code",
   "execution_count": 22,
   "metadata": {},
   "outputs": [
    {
     "name": "stdout",
     "output_type": "stream",
     "text": [
      "Specifity: 0.57\n"
     ]
    }
   ],
   "source": [
    "# we use the values of the confusion matrix\n",
    "specificity = tn / (tn + fp)\n",
    "print(f\"Specifity: {specificity:.2f}\")"
   ]
  },
  {
   "cell_type": "markdown",
   "metadata": {},
   "source": [
    "### 2.6 F1 Score\n",
    "\n",
    "The F1 score is the **harmonic mean of precision** (a ball is truly blue when you pick it) and **recall** (not missing any blue balls), providing a balanced measure between the two. It is useful when you need to consider both false positives and false negatives.\n",
    "\n",
    "![f1_score](https://github.com/Matesanz/python-machine-learning-course/blob/main/docs/assets/metrics/metrics_06.jpg?raw=True)"
   ]
  },
  {
   "cell_type": "code",
   "execution_count": 23,
   "metadata": {},
   "outputs": [
    {
     "name": "stdout",
     "output_type": "stream",
     "text": [
      "F1 Score: 0.56\n"
     ]
    }
   ],
   "source": [
    "from sklearn.metrics import f1_score\n",
    "\n",
    "# Calculate the F1 score of the model\n",
    "f1 = f1_score(y_true, y_pred)\n",
    "print(f\"F1 Score: {f1:.2f}\")"
   ]
  },
  {
   "cell_type": "markdown",
   "metadata": {},
   "source": [
    "### 2.7 ROC Curve and AUC\n",
    "\n",
    "Imagine the model has a \"dial\" you can adjust. If you turn the dial up (increasing sensitivity), the model becomes more aggressive in predicting that balls are blue. Turn it down, and the model becomes more cautious, predicting fewer balls as blue.\n",
    "\n",
    "**Trade-offs**\n",
    "\n",
    "But there's a catch! As you become **more aggressive** in predicting blue balls (higher sensitivity), you'll likely **pick up more actual blue balls** (true positives), but you'll also probably **pick up more not-blue balls by mistake** (false positives). Conversely, being **more cautious** (lower sensitivity) means you'll probably **miss out** on identifying some **blue balls** (false negatives), but you'll also have **fewer mistaken identifications of not-blue balls**.\n",
    "\n",
    "![threshold](https://github.com/Matesanz/python-machine-learning-course/blob/main/docs/assets/metrics/metrics_07.jpg?raw=True)"
   ]
  },
  {
   "cell_type": "markdown",
   "metadata": {},
   "source": [
    "**This is where the ROC curve comes in**. It visually **represents the trade-offs between the true positive rate** (how many actual blue balls you correctly identify) **and the false positive rate** (how many not-blue balls you mistakenly identify as blue) at various threshold settings.\n",
    "\n",
    "- On the ROC curve:\n",
    "  - The **x-axis** represents the **False Positive Rate (FPR)**: the proportion of not-blue balls wrongly identified as blue.\n",
    "  - The **y-axis** represents the **True Positive Rate (TPR)**: the proportion of actual blue balls correctly identified.\n",
    "  - A point on the curve represents a specific sensitivity setting. As you move from the bottom left to the top right of the curve, sensitivity increases.\n",
    "\n",
    "**Interpreting the Curve**\n",
    "\n",
    "- A tool that guesses randomly would produce a straight diagonal line from the bottom left to the top right (known as the line of no-discrimination). It's the worst-case scenario.\n",
    "  \n",
    "- A perfect tool would have a curve that goes straight up the y-axis and then straight across the top. This means it identifies all blue balls without any mistakes.\n",
    "\n",
    "- A real-world tool will usually have a curve somewhere in between these two extremes. The further the curve is from the diagonal line (and the closer it is to the top-left corner), the better the tool is overall.\n",
    "\n",
    "**The Area Under the Curve (AUC)**\n",
    "\n",
    "The Area Under the ROC Curve (AUC-ROC) is a **single scalar value** that represents the area under the ROC curve. It provides a measure of the** model's ability to distinguish between classes**.\n",
    "\n",
    "![auc](https://github.com/Matesanz/python-machine-learning-course/blob/main/docs/assets/metrics/metrics_08.jpg?raw=True)"
   ]
  },
  {
   "cell_type": "code",
   "execution_count": 24,
   "metadata": {},
   "outputs": [
    {
     "data": {
      "image/png": "[encoded data removed]",
      "text/plain": [
       "<Figure size 800x600 with 1 Axes>"
      ]
     },
     "metadata": {},
     "output_type": "display_data"
    }
   ],
   "source": [
    "from sklearn.metrics import roc_curve, roc_auc_score\n",
    "\n",
    "# Mock some probability scores for y_pred (just for demonstration purposes)\n",
    "y_probs = np.random.rand(100)\n",
    "\n",
    "fpr, tpr, thresholds = roc_curve(y_true, y_probs)\n",
    "auc_roc = roc_auc_score(y_true, y_probs)\n",
    "\n",
    "# Plot the ROC curve\n",
    "plt.figure(figsize=(8, 6))\n",
    "plt.plot(fpr, tpr, color='blue', lw=2, label=f\"AUC = {auc_roc:.2f}\")\n",
    "plt.plot([0, 1], [0, 1], color='gray', linestyle='--')\n",
    "plt.xlabel('False Positive Rate')\n",
    "plt.ylabel('True Positive Rate')\n",
    "plt.title('ROC Curve')\n",
    "plt.legend(loc='lower right')\n",
    "plt.show()"
   ]
  },
  {
   "cell_type": "markdown",
   "metadata": {},
   "source": [
    "By examining the ROC curve, you can understand the trade-offs between being too aggressive (many false positives) or too cautious (many false negatives) in your predictions. You can also compare different tools or models by seeing which one has a curve closer to that top-left \"ideal\" corner. The goal is to choose a balance that is best suited to the task at hand, using the ROC curve as a guide."
   ]
  },
  {
   "cell_type": "markdown",
   "metadata": {},
   "source": [
    "**Conclusion**\n",
    "\n",
    "These are some of the essential evaluation metrics used to assess the performance of machine learning models. Depending on the specific problem and business requirements, you may need to prioritize different metrics.\n",
    "\n",
    "Always keep in mind that a single metric may not be sufficient to evaluate the model's performance comprehensively. It's often necessary to consider multiple metrics and the context of the problem to draw meaningful conclusions about the model's effectiveness.\n",
    "\n",
    "Continue practicing with different datasets and models to gain a better understanding of model evaluation. Happy learning!"
   ]
  }
 ],
 "metadata": {
  "kernelspec": {
   "display_name": "Python 3",
   "language": "python",
   "name": "python3"
  },
  "language_info": {
   "codemirror_mode": {
    "name": "ipython",
    "version": 3
   },
   "file_extension": ".py",
   "mimetype": "text/x-python",
   "name": "python",
   "nbconvert_exporter": "python",
   "pygments_lexer": "ipython3",
   "version": "3.9.17"
  },
  "orig_nbformat": 4
 },
 "nbformat": 4,
 "nbformat_minor": 2
}
