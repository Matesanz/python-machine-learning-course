{
 "cells": [
  {
   "attachments": {},
   "cell_type": "markdown",
   "metadata": {},
   "source": [
    "# 🔄 For Loops\n",
    "\n",
    "In Python, `for` loop is used to iterate over a sequence (like list, tuple, string) or other iterable objects. \n",
    "\n",
    "Here's a basic example:"
   ]
  },
  {
   "cell_type": "code",
   "execution_count": 1,
   "metadata": {},
   "outputs": [
    {
     "name": "stdout",
     "output_type": "stream",
     "text": [
      "apple\n",
      "banana\n",
      "cherry\n"
     ]
    }
   ],
   "source": [
    "# Iterating over a list\n",
    "fruits = [\"apple\", \"banana\", \"cherry\"]\n",
    "for fruit in fruits:\n",
    "    print(fruit)"
   ]
  },
  {
   "attachments": {},
   "cell_type": "markdown",
   "metadata": {},
   "source": [
    "## 1. Enumerate\n",
    "\n",
    "`enumerate` is a built-in function of Python that allows you to loop over a list and have an automatic counter. It returns an enumerate object which contains the index and value of all the items of list as a tuple.\n",
    "\n",
    "Here's how you use it:"
   ]
  },
  {
   "cell_type": "code",
   "execution_count": 2,
   "metadata": {},
   "outputs": [
    {
     "name": "stdout",
     "output_type": "stream",
     "text": [
      "The fruit at index 0 is apple.\n",
      "The fruit at index 1 is banana.\n",
      "The fruit at index 2 is cherry.\n"
     ]
    }
   ],
   "source": [
    "fruits = [\"apple\", \"banana\", \"cherry\"]\n",
    "for i, fruit in enumerate(fruits):\n",
    "    print(f\"The fruit at index {i} is {fruit}.\")"
   ]
  },
  {
   "attachments": {},
   "cell_type": "markdown",
   "metadata": {},
   "source": [
    "## 2. Range\n",
    "\n",
    "`range` is a built-in function that generates a sequence of numbers over time. You can specify the start and end values, as well as the step size.\n",
    "\n",
    "Here's how you can use `range` in a `for` loop:"
   ]
  },
  {
   "cell_type": "code",
   "execution_count": 3,
   "metadata": {},
   "outputs": [
    {
     "name": "stdout",
     "output_type": "stream",
     "text": [
      "0\n",
      "1\n",
      "2\n",
      "3\n",
      "4\n"
     ]
    }
   ],
   "source": [
    "for i in range(5):  # generates numbers from 0 to 4\n",
    "    print(i)\n"
   ]
  },
  {
   "attachments": {},
   "cell_type": "markdown",
   "metadata": {},
   "source": [
    "You can also specify the start, stop, and step size with `range`:"
   ]
  },
  {
   "cell_type": "code",
   "execution_count": 4,
   "metadata": {},
   "outputs": [
    {
     "name": "stdout",
     "output_type": "stream",
     "text": [
      "2\n",
      "4\n",
      "6\n",
      "8\n"
     ]
    }
   ],
   "source": [
    "for i in range(2, 10, 2):  # generates numbers from 2 to 10 with a step size of 2\n",
    "    print(i)"
   ]
  },
  {
   "attachments": {},
   "cell_type": "markdown",
   "metadata": {},
   "source": [
    "## 3. Zip\n",
    "\n",
    "`zip` is a built-in function that combines two or more sequences into tuples. This can be useful when you need to iterate over two lists in parallel.\n",
    "\n",
    "Here's an example:"
   ]
  },
  {
   "cell_type": "code",
   "execution_count": 5,
   "metadata": {},
   "outputs": [
    {
     "name": "stdout",
     "output_type": "stream",
     "text": [
      "The apple is red.\n",
      "The banana is yellow.\n",
      "The cherry is red.\n"
     ]
    }
   ],
   "source": [
    "fruits = [\"apple\", \"banana\", \"cherry\"]\n",
    "colors = [\"red\", \"yellow\", \"red\"]\n",
    "for fruit, color in zip(fruits, colors):\n",
    "    print(f\"The {fruit} is {color}.\")"
   ]
  },
  {
   "attachments": {},
   "cell_type": "markdown",
   "metadata": {},
   "source": [
    "\n",
    "In this example, `zip` combines the `fruits` and `colors` lists into tuples. Each tuple contains one fruit and one color, and the `for` loop iterates over these tuples."
   ]
  },
  {
   "attachments": {},
   "cell_type": "markdown",
   "metadata": {},
   "source": [
    "## 4. List Comprehensions\n",
    "\n",
    "List comprehensions provide a concise way to create lists based on existing lists (or other iterable objects). The resulting list comprehension consists of an output expression followed by one or more `for` statements and zero or more `if` statements.\n",
    "\n",
    "Here's an example of a list comprehension:"
   ]
  },
  {
   "cell_type": "code",
   "execution_count": 6,
   "metadata": {},
   "outputs": [
    {
     "name": "stdout",
     "output_type": "stream",
     "text": [
      "[1, 4, 9, 16, 25]\n"
     ]
    }
   ],
   "source": [
    "numbers = [1, 2, 3, 4, 5]\n",
    "squares = [n**2 for n in numbers]\n",
    "\n",
    "print(squares)  # prints: [1, 4, 9, 16, 25]"
   ]
  },
  {
   "attachments": {},
   "cell_type": "markdown",
   "metadata": {},
   "source": [
    "In this example, `n**2` is the output expression, `for n in numbers` is the `for` statement. The list comprehension `[n**2 for n in numbers]` creates a new list where each element is the square of the corresponding element in `numbers`.\n",
    "\n",
    "You can also include `if` statements in a list comprehension to create a new list based on a condition:"
   ]
  },
  {
   "cell_type": "code",
   "execution_count": 7,
   "metadata": {},
   "outputs": [
    {
     "name": "stdout",
     "output_type": "stream",
     "text": [
      "[4, 16]\n"
     ]
    }
   ],
   "source": [
    "numbers = [1, 2, 3, 4, 5]\n",
    "even_squares = [n**2 for n in numbers if n % 2 == 0]\n",
    "\n",
    "print(even_squares)  # prints: [4, 16]\n"
   ]
  },
  {
   "attachments": {},
   "cell_type": "markdown",
   "metadata": {},
   "source": [
    "In this example, the list comprehension creates a new list where each element is the square of the corresponding element in `numbers`, but only if that element is even."
   ]
  },
  {
   "attachments": {},
   "cell_type": "markdown",
   "metadata": {},
   "source": [
    "## 5. Dictionary Comprehensions\n",
    "\n",
    "Like list comprehensions, dictionary comprehensions provide a concise way to create dictionaries. The resulting dictionary comprehension consists of an output expression in the form `key: value`, followed by one or more `for` statements and zero or more `if` statements.\n",
    "\n",
    "Here's an example of a dictionary comprehension:"
   ]
  },
  {
   "cell_type": "code",
   "execution_count": 8,
   "metadata": {},
   "outputs": [
    {
     "name": "stdout",
     "output_type": "stream",
     "text": [
      "{1: 1, 2: 4, 3: 9, 4: 16, 5: 25}\n"
     ]
    }
   ],
   "source": [
    "numbers = [1, 2, 3, 4, 5]\n",
    "squares = {n: n**2 for n in numbers}\n",
    "\n",
    "print(squares)  # prints: {1: 1, 2: 4, 3: 9, 4: 16, 5: 25}"
   ]
  },
  {
   "attachments": {},
   "cell_type": "markdown",
   "metadata": {},
   "source": [
    "In this example, `n: n**2` is the output expression, `for n in numbers` is the `for` statement. The dictionary comprehension `{n: n**2 for n in numbers}` creates a new dictionary where each key is a number from `numbers`, and its corresponding value is the square of that number.\n",
    "\n",
    "You can also include `if` statements in a dictionary comprehension to create a new dictionary based on a condition:"
   ]
  },
  {
   "cell_type": "code",
   "execution_count": 9,
   "metadata": {},
   "outputs": [
    {
     "name": "stdout",
     "output_type": "stream",
     "text": [
      "{2: 4, 4: 16}\n"
     ]
    }
   ],
   "source": [
    "numbers = [1, 2, 3, 4, 5]\n",
    "even_squares = {n: n**2 for n in numbers if n % 2 == 0}\n",
    "\n",
    "print(even_squares)  # prints: {2: 4, 4: 16}"
   ]
  },
  {
   "attachments": {},
   "cell_type": "markdown",
   "metadata": {},
   "source": [
    "In this example, the dictionary comprehension creates a new dictionary where each key is a number from `numbers` and its corresponding value is the square of that number, but only if that number is even."
   ]
  }
 ],
 "metadata": {
  "kernelspec": {
   "display_name": "Python 3",
   "language": "python",
   "name": "python3"
  },
  "language_info": {
   "codemirror_mode": {
    "name": "ipython",
    "version": 3
   },
   "file_extension": ".py",
   "mimetype": "text/x-python",
   "name": "python",
   "nbconvert_exporter": "python",
   "pygments_lexer": "ipython3",
   "version": "3.9.17"
  },
  "orig_nbformat": 4
 },
 "nbformat": 4,
 "nbformat_minor": 2
}
