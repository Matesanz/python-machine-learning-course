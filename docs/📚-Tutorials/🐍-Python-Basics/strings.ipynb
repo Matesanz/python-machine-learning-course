{
 "cells": [
  {
   "attachments": {},
   "cell_type": "markdown",
   "metadata": {},
   "source": [
    "# 🔤 Strings in Python\n",
    "\n",
    "In Python, a string is a **sequence of characters** enclosed in single quotes, double quotes, or triple quotes. \n"
   ]
  },
  {
   "attachments": {},
   "cell_type": "markdown",
   "metadata": {},
   "source": [
    "## 1. Definition and Initialization\n",
    "\n",
    "Both single and double quotes work the same, and you can use them interchangeably. The triple quotes allow the string to span more than one line."
   ]
  },
  {
   "cell_type": "code",
   "execution_count": 1,
   "metadata": {},
   "outputs": [
    {
     "name": "stdout",
     "output_type": "stream",
     "text": [
      "Hello, world!\n",
      "Hello, world!\n",
      "Hello, \n",
      "world!\n"
     ]
    }
   ],
   "source": [
    "# single quotes\n",
    "s1 = 'Hello, world!'\n",
    "print(s1)\n",
    "\n",
    "# double quotes\n",
    "s2 = \"Hello, world!\"\n",
    "print(s2)\n",
    "\n",
    "# triple quotes\n",
    "s3 = '''Hello, \n",
    "world!'''\n",
    "print(s3)"
   ]
  },
  {
   "attachments": {},
   "cell_type": "markdown",
   "metadata": {},
   "source": [
    "## 2. String Concatenation\n",
    "\n",
    "You can combine strings using the `+` operator. This is called concatenation."
   ]
  },
  {
   "cell_type": "code",
   "execution_count": 2,
   "metadata": {},
   "outputs": [
    {
     "name": "stdout",
     "output_type": "stream",
     "text": [
      "Hello, world!\n"
     ]
    }
   ],
   "source": [
    "s1 = 'Hello,'\n",
    "s2 = ' world!'\n",
    "s3 = s1 + s2\n",
    "print(s3)  # prints: Hello, world"
   ]
  },
  {
   "attachments": {},
   "cell_type": "markdown",
   "metadata": {},
   "source": [
    "## 3. String Length\n",
    "\n",
    "You can find the length of a string using the `len()` function."
   ]
  },
  {
   "cell_type": "code",
   "execution_count": null,
   "metadata": {},
   "outputs": [],
   "source": [
    "s = 'Hello, world!'\n",
    "print(len(s))  # prints: 13"
   ]
  },
  {
   "attachments": {},
   "cell_type": "markdown",
   "metadata": {},
   "source": [
    "## 4. Accessing String Characters\n",
    "\n",
    "You can access individual characters of a string using indexing. Remember, Python uses 0-based indexing."
   ]
  },
  {
   "cell_type": "code",
   "execution_count": 4,
   "metadata": {},
   "outputs": [
    {
     "name": "stdout",
     "output_type": "stream",
     "text": [
      "H\n",
      "w\n"
     ]
    }
   ],
   "source": [
    "s = 'Hello, world!'\n",
    "print(s[0])  # prints: H\n",
    "print(s[7])  # prints: w\n"
   ]
  },
  {
   "attachments": {},
   "cell_type": "markdown",
   "metadata": {},
   "source": [
    "You can also use negative indexing to start from the end."
   ]
  },
  {
   "cell_type": "code",
   "execution_count": 3,
   "metadata": {},
   "outputs": [
    {
     "name": "stdout",
     "output_type": "stream",
     "text": [
      "!\n"
     ]
    }
   ],
   "source": [
    "s = 'Hello, world!'\n",
    "print(s[-1])  # prints: !"
   ]
  },
  {
   "attachments": {},
   "cell_type": "markdown",
   "metadata": {},
   "source": [
    "## 5. String Slicing\n",
    "\n",
    "You can extract a portion of a string using slicing. The general syntax is `string[start:stop:step]`. If not provided, start defaults to the beginning of the string, stop defaults to the end of the string, and step defaults to 1."
   ]
  },
  {
   "cell_type": "code",
   "execution_count": 5,
   "metadata": {},
   "outputs": [
    {
     "name": "stdout",
     "output_type": "stream",
     "text": [
      "Hello\n",
      "world!\n",
      "Hlo ol!\n"
     ]
    }
   ],
   "source": [
    "s = 'Hello, world!'\n",
    "print(s[0:5])  # prints: Hello\n",
    "print(s[7:])   # prints: world!\n",
    "print(s[::2])  # prints: Hlo ol!"
   ]
  },
  {
   "attachments": {},
   "cell_type": "markdown",
   "metadata": {},
   "source": [
    "## 6. String Methods\n",
    "\n",
    "Python provides several built-in methods for strings."
   ]
  },
  {
   "cell_type": "code",
   "execution_count": 6,
   "metadata": {},
   "outputs": [
    {
     "name": "stdout",
     "output_type": "stream",
     "text": [
      "HELLO, WORLD!\n",
      "hello, world!\n",
      "Jello, world!\n",
      "['Hello', ' world!']\n"
     ]
    }
   ],
   "source": [
    "s = 'Hello, world!'\n",
    "\n",
    "print(s.upper())        # prints: HELLO, WORLD!\n",
    "print(s.lower())        # prints: hello, world!\n",
    "print(s.replace('H', 'J'))  # prints: Jello, world!\n",
    "print(s.split(','))     # prints: ['Hello', ' world!']"
   ]
  },
  {
   "attachments": {},
   "cell_type": "markdown",
   "metadata": {},
   "source": [
    "## 7. String Formatting\n",
    "\n",
    "Python provides several ways to format strings. Here's an example using f-string formatting:\n"
   ]
  },
  {
   "cell_type": "code",
   "execution_count": 7,
   "metadata": {},
   "outputs": [
    {
     "name": "stdout",
     "output_type": "stream",
     "text": [
      "My name is John and I'm 30 years old.\n"
     ]
    }
   ],
   "source": [
    "name = 'John'\n",
    "age = 30\n",
    "print(f\"My name is {name} and I'm {age} years old.\")  \n",
    "# prints: My name is John and I'm 30 years old."
   ]
  },
  {
   "attachments": {},
   "cell_type": "markdown",
   "metadata": {},
   "source": [
    "\n",
    "Remember, Python is a rich language and provides many more methods and operations for strings. This tutorial only covers the basics. For a comprehensive understanding, you should refer to Python's official documentation.\n"
   ]
  }
 ],
 "metadata": {
  "kernelspec": {
   "display_name": "Python 3",
   "language": "python",
   "name": "python3"
  },
  "language_info": {
   "codemirror_mode": {
    "name": "ipython",
    "version": 3
   },
   "file_extension": ".py",
   "mimetype": "text/x-python",
   "name": "python",
   "nbconvert_exporter": "python",
   "pygments_lexer": "ipython3",
   "version": "3.9.17"
  },
  "orig_nbformat": 4
 },
 "nbformat": 4,
 "nbformat_minor": 2
}
