{
 "cells": [
  {
   "attachments": {},
   "cell_type": "markdown",
   "metadata": {},
   "source": [
    "# 🔒 Tuples"
   ]
  },
  {
   "attachments": {},
   "cell_type": "markdown",
   "metadata": {},
   "source": [
    "## 1. Definition and Initialization\n",
    "\n",
    "In Python, a tuple is an ordered, immutable collection of items, enclosed in parentheses.\n"
   ]
  },
  {
   "cell_type": "code",
   "execution_count": 2,
   "metadata": {},
   "outputs": [
    {
     "name": "stdout",
     "output_type": "stream",
     "text": [
      "(1, 2, 3, 4, 5)\n",
      "('apple', 'banana', 'cherry')\n",
      "(1, 'apple', True, 3.14, (1, 2, 3))\n"
     ]
    }
   ],
   "source": [
    "# tuple of integers\n",
    "t1 = (1, 2, 3, 4, 5)\n",
    "print(t1)  # prints: (1, 2, 3, 4, 5)\n",
    "\n",
    "# tuple of strings\n",
    "t2 = ('apple', 'banana', 'cherry')\n",
    "print(t2)  # prints: ('apple', 'banana', 'cherry')\n",
    "\n",
    "# mixed tuple\n",
    "t3 = (1, 'apple', True, 3.14, (1, 2, 3))\n",
    "print(t3)  # prints: (1, 'apple', True, 3.14, (1, 2, 3))"
   ]
  },
  {
   "attachments": {},
   "cell_type": "markdown",
   "metadata": {},
   "source": [
    "## 2. Accessing Tuple Items\n",
    "\n",
    "You can access tuple items by referring to their index number. Python uses 0-based indexing."
   ]
  },
  {
   "cell_type": "code",
   "execution_count": 3,
   "metadata": {},
   "outputs": [
    {
     "name": "stdout",
     "output_type": "stream",
     "text": [
      "1\n",
      "3\n",
      "5\n"
     ]
    }
   ],
   "source": [
    "t1 = (1, 2, 3, 4, 5)\n",
    "print(t1[0])  # prints: 1\n",
    "print(t1[2])  # prints: 3\n",
    "\n",
    "# Negative indexing starts from the end.\n",
    "print(t1[-1])  # prints: 5"
   ]
  },
  {
   "attachments": {},
   "cell_type": "markdown",
   "metadata": {},
   "source": [
    "## 3. Tuple Immutability\n",
    "\n",
    "Unlike lists, tuples are immutable. This means you can't change, add, or remove items after the tuple is created."
   ]
  },
  {
   "cell_type": "code",
   "execution_count": 4,
   "metadata": {},
   "outputs": [
    {
     "ename": "TypeError",
     "evalue": "'tuple' object does not support item assignment",
     "output_type": "error",
     "traceback": [
      "\u001b[0;31m---------------------------------------------------------------------------\u001b[0m",
      "\u001b[0;31mTypeError\u001b[0m                                 Traceback (most recent call last)",
      "Cell \u001b[0;32mIn[4], line 2\u001b[0m\n\u001b[1;32m      1\u001b[0m t1 \u001b[39m=\u001b[39m (\u001b[39m1\u001b[39m, \u001b[39m2\u001b[39m, \u001b[39m3\u001b[39m, \u001b[39m4\u001b[39m, \u001b[39m5\u001b[39m)\n\u001b[0;32m----> 2\u001b[0m t1[\u001b[39m0\u001b[39;49m] \u001b[39m=\u001b[39m \u001b[39m10\u001b[39m  \u001b[39m# raises TypeError: 'tuple' object does not support item assignment\u001b[39;00m\n",
      "\u001b[0;31mTypeError\u001b[0m: 'tuple' object does not support item assignment"
     ]
    }
   ],
   "source": [
    "t1 = (1, 2, 3, 4, 5)\n",
    "t1[0] = 10  # raises TypeError: 'tuple' object does not support item assignment"
   ]
  },
  {
   "attachments": {},
   "cell_type": "markdown",
   "metadata": {},
   "source": [
    "## 4. Tuple Slicing\n",
    "\n",
    "You can extract a part of a tuple using slicing. The syntax is `tuple[start:stop:step]`."
   ]
  },
  {
   "cell_type": "code",
   "execution_count": null,
   "metadata": {},
   "outputs": [],
   "source": [
    "t1 = (1, 2, 3, 4, 5)\n",
    "print(t1[1:4])  # prints: (2, 3, 4)\n",
    "print(t1[:3])   # prints: (1, 2, 3)\n",
    "print(t1[::2])  # prints: (1, 3, 5)"
   ]
  },
  {
   "attachments": {},
   "cell_type": "markdown",
   "metadata": {},
   "source": [
    "## 5. Tuple Methods\n",
    "\n",
    "Python provides two built-in methods for tuples: `count()` and `index()`."
   ]
  },
  {
   "cell_type": "code",
   "execution_count": null,
   "metadata": {},
   "outputs": [],
   "source": [
    "t1 = (1, 2, 2, 3, 4, 4, 4, 5)\n",
    "\n",
    "# counts the number of occurrences of 2\n",
    "print(t1.count(2))  # prints: 2\n",
    "\n",
    "# returns the first index of 4\n",
    "print(t1.index(4))  # prints: 4"
   ]
  },
  {
   "attachments": {},
   "cell_type": "markdown",
   "metadata": {},
   "source": [
    "## 6. Length of a Tuple\n",
    "\n",
    "You can get the number of items in a tuple with the `len()` function."
   ]
  },
  {
   "cell_type": "code",
   "execution_count": null,
   "metadata": {},
   "outputs": [],
   "source": [
    "t1 = (1, 2, 3, 4, 5)\n",
    "print(len(t1))  # prints: 5"
   ]
  },
  {
   "attachments": {},
   "cell_type": "markdown",
   "metadata": {},
   "source": [
    "## 7. Tuple Unpacking\n",
    "\n",
    "Tuple unpacking allows you to assign each item in an iterable (often a tuple) to a variable."
   ]
  },
  {
   "cell_type": "code",
   "execution_count": null,
   "metadata": {},
   "outputs": [],
   "source": [
    "t1 = (1, 2, 3, 4, 5)\n",
    "a, b, c, d, e = t1\n",
    "print(a)  # prints: 1\n",
    "print(b)  # prints: 2\n",
    "print(c)  # prints: 3"
   ]
  }
 ],
 "metadata": {
  "kernelspec": {
   "display_name": "Python 3",
   "language": "python",
   "name": "python3"
  },
  "language_info": {
   "codemirror_mode": {
    "name": "ipython",
    "version": 3
   },
   "file_extension": ".py",
   "mimetype": "text/x-python",
   "name": "python",
   "nbconvert_exporter": "python",
   "pygments_lexer": "ipython3",
   "version": "3.9.17"
  },
  "orig_nbformat": 4
 },
 "nbformat": 4,
 "nbformat_minor": 2
}
