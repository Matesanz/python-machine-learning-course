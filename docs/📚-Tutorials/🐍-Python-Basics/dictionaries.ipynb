{
 "cells": [
  {
   "attachments": {},
   "cell_type": "markdown",
   "metadata": {},
   "source": [
    "# 📓 Dictionaries"
   ]
  },
  {
   "attachments": {},
   "cell_type": "markdown",
   "metadata": {},
   "source": [
    "## 1. Definition and Initialization\n",
    "\n",
    "In Python, a dictionary is an unordered collection of key-value pairs. Each key-value pair is separated by a colon \":\" and the pairs are separated by commas. Dictionaries are written with curly brackets."
   ]
  },
  {
   "cell_type": "code",
   "execution_count": null,
   "metadata": {},
   "outputs": [],
   "source": [
    "# dictionary of integer keys and string values\n",
    "d1 = {1: 'apple', 2: 'banana', 3: 'cherry'}\n",
    "print(d1)  # prints: {1: 'apple', 2: 'banana', 3: 'cherry'}\n",
    "\n",
    "# dictionary of string keys and integer values\n",
    "d2 = {'one': 1, 'two': 2, 'three': 3}\n",
    "print(d2)  # prints: {'one': 1, 'two': 2, 'three': 3}\n",
    "\n",
    "# mixed dictionary\n",
    "d3 = {1: 'apple', 'two': 2, True: 3.14}\n",
    "print(d3)  # prints: {1: 'apple', 'two': 2, True: 3.14}"
   ]
  },
  {
   "attachments": {},
   "cell_type": "markdown",
   "metadata": {},
   "source": [
    "## 2. Accessing Dictionary Items\n",
    "\n",
    "You can access dictionary items by referring to their key name."
   ]
  },
  {
   "cell_type": "code",
   "execution_count": null,
   "metadata": {},
   "outputs": [],
   "source": [
    "d1 = {1: 'apple', 2: 'banana', 3: 'cherry'}\n",
    "print(d1[1])  # prints: 'apple'"
   ]
  },
  {
   "attachments": {},
   "cell_type": "markdown",
   "metadata": {},
   "source": [
    "## 3. Modifying Dictionary Items\n",
    "\n",
    "You can modify the value of a specific item by referring to its key name."
   ]
  },
  {
   "cell_type": "code",
   "execution_count": null,
   "metadata": {},
   "outputs": [],
   "source": [
    "d1 = {1: 'apple', 2: 'banana', 3: 'cherry'}\n",
    "d1[1] = 'avocado'\n",
    "print(d1)  # prints: {1: 'avocado', 2: 'banana', 3: 'cherry'}"
   ]
  },
  {
   "attachments": {},
   "cell_type": "markdown",
   "metadata": {},
   "source": [
    "## 4. Adding Items\n",
    "\n",
    "Adding an item to the dictionary is done by using a new index key and assigning a value to it."
   ]
  },
  {
   "cell_type": "code",
   "execution_count": null,
   "metadata": {},
   "outputs": [],
   "source": [
    "d1 = {1: 'apple', 2: 'banana', 3: 'cherry'}\n",
    "d1[4] = 'dragonfruit'\n",
    "print(d1)  # prints: {1: 'apple', 2: 'banana', 3: 'cherry', 4: 'dragonfruit'}"
   ]
  },
  {
   "attachments": {},
   "cell_type": "markdown",
   "metadata": {},
   "source": [
    "## 5. Removing Items\n",
    "\n",
    "There are several methods to remove items from a dictionary, such as `del` keyword, `pop()`, `popitem()`, and `clear()`."
   ]
  },
  {
   "cell_type": "code",
   "execution_count": null,
   "metadata": {},
   "outputs": [],
   "source": [
    "d1 = {1: 'apple', 2: 'banana', 3: 'cherry', 4: 'dragonfruit'}\n",
    "\n",
    "del d1[1]\n",
    "print(d1)  # prints: {2: 'banana', 3: 'cherry', 4: 'dragonfruit'}\n",
    "\n",
    "d1.pop(2)\n",
    "print(d1)  # prints: {3: 'cherry', 4: 'dragonfruit'}\n",
    "\n",
    "d1.popitem()  # removes the last inserted item\n",
    "print(d1)  # prints: {3: 'cherry'}\n",
    "\n",
    "d1.clear()\n",
    "print(d1)  # prints: {}"
   ]
  },
  {
   "attachments": {},
   "cell_type": "markdown",
   "metadata": {},
   "source": [
    "## 6. Dictionary Methods\n",
    "\n",
    "Python provides several methods to manipulate dictionaries, like `keys()`, `values()`, `items()`, `get()`, `update()`, and many more."
   ]
  },
  {
   "cell_type": "code",
   "execution_count": null,
   "metadata": {},
   "outputs": [],
   "source": [
    "d1 = {1: 'apple', 2: 'banana', 3: 'cherry'}\n",
    "\n",
    "print(d1.keys())     # prints: dict_keys([1, 2, 3])\n",
    "print(d1.values())   # prints: dict_values(['apple', 'banana', 'cherry'])\n",
    "print(d1.items())    # prints: dict_items([(1, 'apple'), (2, 'banana'), (3, 'cherry')])\n",
    "\n",
    "# get() returns the value for the specified key if key is in dictionary.\n",
    "print(d1.get(1))     # prints: 'apple'\n",
    "print(d1.get(4))     # prints: None\n",
    "\n",
    "# update() method updates the dictionary with the elements from another dictionary object or from an iterable of key/value pairs.\n",
    "d1.update({4: 'dragonfruit'})\n",
    "print(d1)  # prints: {1: 'apple', 2: 'banana', 3: 'cherry', 4: 'dragonfruit'}"
   ]
  },
  {
   "attachments": {},
   "cell_type": "markdown",
   "metadata": {},
   "source": [
    "## 7. Check if Key Exists\n",
    "\n",
    "To determine if a specified key is present in a dictionary, you can use the `in` keyword."
   ]
  },
  {
   "cell_type": "code",
   "execution_count": null,
   "metadata": {},
   "outputs": [],
   "source": [
    "d1 = {1: 'apple', 2: 'banana', 3: 'cherry'}\n",
    "print(1 in d1)  # prints: True\n",
    "print(4 in d1)  # prints: False"
   ]
  },
  {
   "attachments": {},
   "cell_type": "markdown",
   "metadata": {},
   "source": [
    "## 8. Length of a Dictionary\n",
    "\n",
    "You can get the number of items (key-value pairs) in a dictionary with the `len()` function."
   ]
  },
  {
   "cell_type": "code",
   "execution_count": null,
   "metadata": {},
   "outputs": [],
   "source": [
    "d1 = {1: 'apple', 2: 'banana', 3: 'cherry'}\n",
    "print(len(d1))  # prints: 3"
   ]
  },
  {
   "attachments": {},
   "cell_type": "markdown",
   "metadata": {},
   "source": [
    "## 9. Nested Dictionaries\n",
    "\n",
    "A dictionary can contain dictionaries, this is called nested dictionaries."
   ]
  },
  {
   "cell_type": "code",
   "execution_count": null,
   "metadata": {},
   "outputs": [],
   "source": [
    "nested_dict = {1: 'apple', 2: 'banana', 3: {'name': 'cherry', 'color': 'red'}}\n",
    "print(nested_dict)  # prints: {1: 'apple', 2: 'banana', 3: {'name': 'cherry', 'color': 'red'}}"
   ]
  },
  {
   "attachments": {},
   "cell_type": "markdown",
   "metadata": {},
   "source": [
    "## 10. Dictionary Comprehension\n",
    "\n",
    "Dictionary comprehension is an elegant and concise way to create a new dictionary from an iterable in Python."
   ]
  },
  {
   "cell_type": "code",
   "execution_count": null,
   "metadata": {},
   "outputs": [],
   "source": [
    "# create a dictionary with integer keys and their corresponding square values\n",
    "squares = {x: x**2 for x in range(6)}\n",
    "print(squares)  # prints: {0: 0, 1: 1, 2: 4, 3: 9, 4: 16, 5: 25}"
   ]
  }
 ],
 "metadata": {
  "language_info": {
   "name": "python"
  },
  "orig_nbformat": 4
 },
 "nbformat": 4,
 "nbformat_minor": 2
}
