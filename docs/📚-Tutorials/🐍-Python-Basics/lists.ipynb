{
 "cells": [
  {
   "attachments": {},
   "cell_type": "markdown",
   "metadata": {},
   "source": [
    "# 📁 Lists"
   ]
  },
  {
   "attachments": {},
   "cell_type": "markdown",
   "metadata": {},
   "source": [
    "## 1. Definition and Initialization\n",
    "\n",
    "In Python, a list is an ordered collection of items, which can be of any type and are enclosed in square brackets."
   ]
  },
  {
   "cell_type": "code",
   "execution_count": 1,
   "metadata": {},
   "outputs": [
    {
     "name": "stdout",
     "output_type": "stream",
     "text": [
      "[1, 2, 3, 4, 5]\n",
      "['apple', 'banana', 'cherry']\n",
      "[1, 'apple', True, 3.14, [1, 2, 3]]\n"
     ]
    }
   ],
   "source": [
    "# list of integers\n",
    "list1 = [1, 2, 3, 4, 5]\n",
    "print(list1)  # prints: [1, 2, 3, 4, 5]\n",
    "\n",
    "# list of strings\n",
    "list2 = ['apple', 'banana', 'cherry']\n",
    "print(list2)  # prints: ['apple', 'banana', 'cherry']\n",
    "\n",
    "# mixed list\n",
    "list3 = [1, 'apple', True, 3.14, [1, 2, 3]]\n",
    "print(list3)  # prints: [1, 'apple', True, 3.14, [1, 2, 3]]"
   ]
  },
  {
   "attachments": {},
   "cell_type": "markdown",
   "metadata": {},
   "source": [
    "## 2. Accessing List Items\n",
    "\n",
    "You can access list items by referring to their index number. Python uses 0-based indexing."
   ]
  },
  {
   "cell_type": "code",
   "execution_count": 2,
   "metadata": {},
   "outputs": [
    {
     "name": "stdout",
     "output_type": "stream",
     "text": [
      "1\n",
      "3\n",
      "5\n"
     ]
    }
   ],
   "source": [
    "list1 = [1, 2, 3, 4, 5]\n",
    "print(list1[0])  # prints: 1\n",
    "print(list1[2])  # prints: 3\n",
    "\n",
    "# Negative indexing starts from the end.\n",
    "print(list1[-1])  # prints: 5"
   ]
  },
  {
   "attachments": {},
   "cell_type": "markdown",
   "metadata": {},
   "source": [
    "## 3. Modifying List Items\n",
    "\n",
    "You can modify list items by referring to their index number.\n"
   ]
  },
  {
   "cell_type": "code",
   "execution_count": 3,
   "metadata": {},
   "outputs": [
    {
     "name": "stdout",
     "output_type": "stream",
     "text": [
      "[10, 2, 3, 4, 5]\n"
     ]
    }
   ],
   "source": [
    "list1 = [1, 2, 3, 4, 5]\n",
    "list1[0] = 10\n",
    "print(list1)  # prints: [10, 2, 3, 4, 5]"
   ]
  },
  {
   "attachments": {},
   "cell_type": "markdown",
   "metadata": {},
   "source": [
    "## 4. List Slicing\n",
    "\n",
    "You can extract a part of a list using slicing. The syntax is `list[start:stop:step]`."
   ]
  },
  {
   "attachments": {},
   "cell_type": "markdown",
   "metadata": {},
   "source": [
    "## 5. List Methods\n",
    "\n",
    "Python provides several methods to manipulate lists, like `append()`, `insert()`, `remove()`, `pop()`, `sort()`, and many more."
   ]
  },
  {
   "cell_type": "code",
   "execution_count": 4,
   "metadata": {},
   "outputs": [
    {
     "name": "stdout",
     "output_type": "stream",
     "text": [
      "[1, 2, 3, 4, 5, 6]\n",
      "[0, 1, 2, 3, 4, 5, 6]\n",
      "[1, 2, 3, 4, 5, 6]\n",
      "[2, 3, 4, 5, 6]\n",
      "[6, 5, 4, 3, 2]\n"
     ]
    }
   ],
   "source": [
    "list1 = [1, 2, 3, 4, 5]\n",
    "\n",
    "# add an item to the end of the list\n",
    "list1.append(6)\n",
    "print(list1)  # prints: [1, 2, 3, 4, 5, 6]\n",
    "\n",
    "# add an item at a specified position\n",
    "list1.insert(0, 0)\n",
    "print(list1)  # prints: [0, 1, 2, 3, 4, 5, 6]\n",
    "\n",
    "# remove a specified item\n",
    "list1.remove(0)\n",
    "print(list1)  # prints: [1, 2, 3, 4, 5, 6]\n",
    "\n",
    "# remove an item at a specified position\n",
    "list1.pop(0)\n",
    "print(list1)  # prints: [2, 3, 4, 5, 6]\n",
    "\n",
    "# sort the list\n",
    "list1.sort(reverse=True)\n",
    "print(list1)  # prints: [6, 5, 4, 3, 2]"
   ]
  },
  {
   "attachments": {},
   "cell_type": "markdown",
   "metadata": {},
   "source": [
    "## 6. List Comprehensions\n",
    "\n",
    "List comprehensions provide a concise way to create lists. It consists of brackets containing an expression followed by a for statement, optionally followed by for or if clauses."
   ]
  },
  {
   "cell_type": "code",
   "execution_count": 5,
   "metadata": {},
   "outputs": [
    {
     "name": "stdout",
     "output_type": "stream",
     "text": [
      "[0, 1, 4, 9, 16, 25, 36, 49, 64, 81]\n",
      "[0, 4, 16, 36, 64]\n"
     ]
    }
   ],
   "source": [
    "# create a list of squares for numbers from 0 to 9\n",
    "squares = [x**2 for x in range(10)]\n",
    "print(squares)  # prints: [0, 1, 4, 9, 16, 25, 36, 49, 64, 81]\n",
    "\n",
    "# create a list of even numbers from the above list\n",
    "evens = [x for x in squares if x % 2 == 0]\n",
    "print(evens)  # prints: [0, 4, 16, 36, 64]\n"
   ]
  },
  {
   "attachments": {},
   "cell_type": "markdown",
   "metadata": {},
   "source": [
    "## 7. Nested Lists\n",
    "\n",
    "A list can contain other lists. This is called a nested list."
   ]
  },
  {
   "cell_type": "code",
   "execution_count": 6,
   "metadata": {},
   "outputs": [
    {
     "name": "stdout",
     "output_type": "stream",
     "text": [
      "[[1, 2, 3], [4, 5, 6], [7, 8, 9]]\n",
      "[1, 2, 3]\n",
      "2\n"
     ]
    }
   ],
   "source": [
    "nested = [[1, 2, 3], [4, 5, 6], [7, 8, 9]]\n",
    "print(nested)  # prints: [[1, 2, 3], [4, 5, 6], [7, 8, 9]]\n",
    "print(nested[0])  # prints: [1, 2, 3]\n",
    "print(nested[0][1])  # prints: 2"
   ]
  },
  {
   "attachments": {},
   "cell_type": "markdown",
   "metadata": {},
   "source": [
    "## 8. Length of a List\n",
    "\n",
    "You can get the number of items in a list with the `len()` function."
   ]
  },
  {
   "cell_type": "code",
   "execution_count": 7,
   "metadata": {},
   "outputs": [
    {
     "name": "stdout",
     "output_type": "stream",
     "text": [
      "5\n"
     ]
    }
   ],
   "source": [
    "list1 = [1, 2, 3, 4, 5]\n",
    "print(len(list1))  # prints: 5"
   ]
  }
 ],
 "metadata": {
  "kernelspec": {
   "display_name": "Python 3",
   "language": "python",
   "name": "python3"
  },
  "language_info": {
   "codemirror_mode": {
    "name": "ipython",
    "version": 3
   },
   "file_extension": ".py",
   "mimetype": "text/x-python",
   "name": "python",
   "nbconvert_exporter": "python",
   "pygments_lexer": "ipython3",
   "version": "3.9.17"
  },
  "orig_nbformat": 4
 },
 "nbformat": 4,
 "nbformat_minor": 2
}
