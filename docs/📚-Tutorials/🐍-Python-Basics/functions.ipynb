{
 "cells": [
  {
   "attachments": {},
   "cell_type": "markdown",
   "metadata": {},
   "source": [
    "# 🧑‍🏭 Functions"
   ]
  },
  {
   "attachments": {},
   "cell_type": "markdown",
   "metadata": {},
   "source": [
    "## 1. Definition and Calling a Function\n",
    "\n",
    "In Python, a function is defined using the `def` keyword. You can call a function by using its name followed by parentheses."
   ]
  },
  {
   "cell_type": "code",
   "execution_count": 1,
   "metadata": {},
   "outputs": [
    {
     "name": "stdout",
     "output_type": "stream",
     "text": [
      "Hello, world!\n"
     ]
    }
   ],
   "source": [
    "def greet():\n",
    "    print(\"Hello, world!\")\n",
    "\n",
    "# Call the function\n",
    "greet()  # prints: Hello, world!"
   ]
  },
  {
   "attachments": {},
   "cell_type": "markdown",
   "metadata": {},
   "source": [
    "## 2. Parameters and Arguments\n",
    "\n",
    "Information can be passed into functions as parameters. Parameters are specified after the function name, inside the parentheses. "
   ]
  },
  {
   "cell_type": "code",
   "execution_count": 2,
   "metadata": {},
   "outputs": [
    {
     "name": "stdout",
     "output_type": "stream",
     "text": [
      "Hello, Alice!\n"
     ]
    }
   ],
   "source": [
    "def greet(name):\n",
    "    print(f\"Hello, {name}!\")\n",
    "\n",
    "# Call the function with an argument\n",
    "greet(\"Alice\")  # prints: Hello, Alice!"
   ]
  },
  {
   "attachments": {},
   "cell_type": "markdown",
   "metadata": {},
   "source": [
    "## 3. Default Parameter Value\n",
    "\n",
    "You can set a default value for parameters. If we call the function without an argument, it uses the default value."
   ]
  },
  {
   "cell_type": "code",
   "execution_count": 3,
   "metadata": {},
   "outputs": [
    {
     "name": "stdout",
     "output_type": "stream",
     "text": [
      "Hello, Alice!\n",
      "Hello, world!\n"
     ]
    }
   ],
   "source": [
    "def greet(name=\"world\"):\n",
    "    print(f\"Hello, {name}!\")\n",
    "\n",
    "greet(\"Alice\")  # prints: Hello, Alice!\n",
    "greet()  # prints: Hello, world!"
   ]
  },
  {
   "attachments": {},
   "cell_type": "markdown",
   "metadata": {},
   "source": [
    "## 4. Return Values\n",
    "\n",
    "A function can return a value using the `return` statement. "
   ]
  },
  {
   "cell_type": "code",
   "execution_count": 4,
   "metadata": {},
   "outputs": [
    {
     "name": "stdout",
     "output_type": "stream",
     "text": [
      "25\n"
     ]
    }
   ],
   "source": [
    "def square(number):\n",
    "    return number ** 2\n",
    "\n",
    "print(square(5))  # prints: 25"
   ]
  },
  {
   "attachments": {},
   "cell_type": "markdown",
   "metadata": {},
   "source": [
    "## 5. Arbitrary Arguments, *args\n",
    "\n",
    "If you do not know how many arguments will be passed into your function, you can add a * before the parameter name."
   ]
  },
  {
   "cell_type": "code",
   "execution_count": 5,
   "metadata": {},
   "outputs": [
    {
     "name": "stdout",
     "output_type": "stream",
     "text": [
      "Hello, Alice!\n",
      "Hello, Bob!\n",
      "Hello, Charlie!\n"
     ]
    }
   ],
   "source": [
    "def greet(*names):\n",
    "    for name in names:\n",
    "        print(f\"Hello, {name}!\")\n",
    "\n",
    "greet(\"Alice\", \"Bob\", \"Charlie\")  # prints: Hello, Alice! Hello, Bob! Hello, Charlie!"
   ]
  },
  {
   "attachments": {},
   "cell_type": "markdown",
   "metadata": {},
   "source": [
    "## 6. Arbitrary Keyword Arguments, **kwargs\n",
    "\n",
    "If you do not know how many keyword arguments will be passed into your function, add two asterisk: ** before the parameter name."
   ]
  },
  {
   "cell_type": "code",
   "execution_count": 6,
   "metadata": {},
   "outputs": [
    {
     "name": "stdout",
     "output_type": "stream",
     "text": [
      "name: Alice\n",
      "age: 25\n",
      "city: New York\n"
     ]
    }
   ],
   "source": [
    "def person_info(**kwargs):\n",
    "    for key, value in kwargs.items():\n",
    "        print(f\"{key}: {value}\")\n",
    "\n",
    "person_info(name=\"Alice\", age=25, city=\"New York\")"
   ]
  },
  {
   "attachments": {},
   "cell_type": "markdown",
   "metadata": {},
   "source": [
    "## 7. Lambda Functions\n",
    "\n",
    "A lambda function is a small anonymous function. It can take any number of arguments, but can only have one expression."
   ]
  },
  {
   "cell_type": "code",
   "execution_count": 7,
   "metadata": {},
   "outputs": [
    {
     "name": "stdout",
     "output_type": "stream",
     "text": [
      "25\n"
     ]
    }
   ],
   "source": [
    "square = lambda x: x ** 2\n",
    "print(square(5))  # prints: 25"
   ]
  },
  {
   "attachments": {},
   "cell_type": "markdown",
   "metadata": {},
   "source": [
    "## 8. Type Hinting\n",
    "\n",
    "Type hinting is a new feature since Python 3.5 that allows developers to indicate the type of a value within your Python code. This doesn't affect your code's runtime behavior, but it supports better IDE features and improves code readability.\n",
    "\n",
    "Here's a function without type hints:"
   ]
  },
  {
   "cell_type": "code",
   "execution_count": 8,
   "metadata": {},
   "outputs": [],
   "source": [
    "def greet(name):\n",
    "    return f\"Hello, {name}\""
   ]
  },
  {
   "attachments": {},
   "cell_type": "markdown",
   "metadata": {},
   "source": [
    "And here it is with type hints:"
   ]
  },
  {
   "cell_type": "code",
   "execution_count": 9,
   "metadata": {},
   "outputs": [],
   "source": [
    "def greet(name: str) -> str:\n",
    "    return f\"Hello, {name}\""
   ]
  },
  {
   "attachments": {},
   "cell_type": "markdown",
   "metadata": {},
   "source": [
    "In the second function, `name: str` indicates that `name` should be a string, and `-> str` indicates that the function will return a string.\n",
    "\n",
    "You can also use complex type hints like `List`, `Dict`, `Tuple`, etc."
   ]
  },
  {
   "cell_type": "code",
   "execution_count": 10,
   "metadata": {},
   "outputs": [
    {
     "name": "stdout",
     "output_type": "stream",
     "text": [
      "('There are 2 names.', 2)\n"
     ]
    }
   ],
   "source": [
    "from typing import List, Tuple\n",
    "\n",
    "def info(names: List[str]) -> Tuple[str, int]:\n",
    "    return f\"There are {len(names)} names.\", len(names)\n",
    "\n",
    "print(info([\"Alice\", \"Bob\"]))  # prints: ('There are 2 names.', 2)"
   ]
  },
  {
   "attachments": {},
   "cell_type": "markdown",
   "metadata": {},
   "source": [
    "### Type Hinting in python 3.9 and above\n",
    "\n",
    "Starting from Python 3.5, type hints were introduced, which provided a way to specify the expected type of variables, function parameters, and return values. This was largely facilitated by the `typing` module. Here's an example with Python 3.8 and below:"
   ]
  },
  {
   "cell_type": "code",
   "execution_count": 11,
   "metadata": {},
   "outputs": [],
   "source": [
    "from typing import List, Dict, Tuple, Optional\n",
    "\n",
    "def process_data(data: List[int]) -> Tuple[Dict[str, int], Optional[str]]:\n",
    "    # some processing here\n",
    "    pass"
   ]
  },
  {
   "attachments": {},
   "cell_type": "markdown",
   "metadata": {},
   "source": [
    "In the function `process_data`, the parameter `data` is expected to be a list of integers, and the function is expected to return a tuple containing a dictionary and an optional string.\n",
    "\n",
    "Starting with Python 3.9, the built-in collection types (`list`, `dict`, `tuple`, `set`) can be used as generic types, eliminating the need for equivalents from the `typing` module (`List`, `Dict`, `Tuple`, `Set`). Here's the equivalent Python 3.9+ type hinting:"
   ]
  },
  {
   "cell_type": "code",
   "execution_count": 13,
   "metadata": {},
   "outputs": [],
   "source": [
    "def process_data(data: list[int]) -> tuple[dict[str, int], Optional[str]]:\n",
    "    # some processing here\n",
    "    pass"
   ]
  },
  {
   "attachments": {},
   "cell_type": "markdown",
   "metadata": {},
   "source": [
    "As you can see, Python 3.9 allows for a more streamlined and natural syntax for type hinting. The `|` operator can be used for specifying that a variable can be of either type, making it a neat replacement for `typing.Optional` (which is essentially a shorthand for `Union[..., None]`).\n",
    "\n",
    "It's important to mention that while this change simplifies the syntax, Python's type hinting system remains optional and does not influence runtime behavior. It is primarily intended as an aid for static type checkers, linters, IDE features, and human readers of the code."
   ]
  },
  {
   "attachments": {},
   "cell_type": "markdown",
   "metadata": {},
   "source": [
    "## 9. Docstrings\n",
    "\n",
    "A docstring is a string literal that appears right after the definition of a function, method, class, or module, used to document the object. There are different styles of docstrings, one of which is the Google style that's widely used in scientific computing projects.\n",
    "\n",
    "Here's an example:"
   ]
  },
  {
   "cell_type": "code",
   "execution_count": 14,
   "metadata": {},
   "outputs": [],
   "source": [
    "def greet(name: str) -> str:\n",
    "    \"\"\"\n",
    "    Returns a greeting string.\n",
    "\n",
    "    Args:\n",
    "        name (str): The name to greet.\n",
    "\n",
    "    Returns:\n",
    "        str: A greeting string.\n",
    "    \"\"\"\n",
    "    return f\"Hello, {name}\""
   ]
  },
  {
   "attachments": {},
   "cell_type": "markdown",
   "metadata": {},
   "source": [
    "This docstring provides a concise explanation of the function, along with its parameters and return values. It's enclosed in triple quotes, which allows for multi-line string literals in Python.\n",
    "\n",
    "This approach is particularly useful in complex codebases, where it might be tricky to understand what a function does, what input it expects, and what it returns. By using type hinting and well-structured docstrings, you significantly improve code readability and maintainability."
   ]
  }
 ],
 "metadata": {
  "kernelspec": {
   "display_name": "Python 3",
   "language": "python",
   "name": "python3"
  },
  "language_info": {
   "codemirror_mode": {
    "name": "ipython",
    "version": 3
   },
   "file_extension": ".py",
   "mimetype": "text/x-python",
   "name": "python",
   "nbconvert_exporter": "python",
   "pygments_lexer": "ipython3",
   "version": "3.9.9"
  },
  "orig_nbformat": 4
 },
 "nbformat": 4,
 "nbformat_minor": 2
}
