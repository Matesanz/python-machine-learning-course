{
 "cells": [
  {
   "attachments": {},
   "cell_type": "markdown",
   "metadata": {},
   "source": [
    "# 🔛 Conditional Statements"
   ]
  },
  {
   "attachments": {},
   "cell_type": "markdown",
   "metadata": {},
   "source": [
    "### 1. If Statement\n",
    "\n",
    "The `if` statement is used to test a specific condition. If the condition is true, a block of indented code will be executed."
   ]
  },
  {
   "cell_type": "code",
   "execution_count": 1,
   "metadata": {},
   "outputs": [
    {
     "name": "stdout",
     "output_type": "stream",
     "text": [
      "x is positive\n"
     ]
    }
   ],
   "source": [
    "x = 10\n",
    "\n",
    "if x > 0:\n",
    "    print(\"x is positive\")  # prints: x is positive"
   ]
  },
  {
   "attachments": {},
   "cell_type": "markdown",
   "metadata": {},
   "source": [
    "In this example, the code within the `if` statement will execute because the condition (`x > 0`) is true."
   ]
  },
  {
   "attachments": {},
   "cell_type": "markdown",
   "metadata": {},
   "source": [
    "### 2. Else Statement\n",
    "\n",
    "The `else` statement is used to define a block of code to be executed if the associated `if` statement's condition is false."
   ]
  },
  {
   "cell_type": "code",
   "execution_count": 2,
   "metadata": {},
   "outputs": [
    {
     "name": "stdout",
     "output_type": "stream",
     "text": [
      "x is not positive\n"
     ]
    }
   ],
   "source": [
    "x = -10\n",
    "\n",
    "if x > 0:\n",
    "    print(\"x is positive\")\n",
    "else:\n",
    "    print(\"x is not positive\")  # prints: x is not positive\n"
   ]
  },
  {
   "attachments": {},
   "cell_type": "markdown",
   "metadata": {},
   "source": [
    "### 3. Elif Statement\n",
    "\n",
    "The `elif` (short for else if) statement is used to specify multiple conditions. If the condition for `if` is False, it checks the condition of the next `elif` block and so on. If all the conditions are False, the body of `else` is executed."
   ]
  },
  {
   "cell_type": "code",
   "execution_count": 3,
   "metadata": {},
   "outputs": [
    {
     "name": "stdout",
     "output_type": "stream",
     "text": [
      "x is zero\n"
     ]
    }
   ],
   "source": [
    "x = 0\n",
    "\n",
    "if x > 0:\n",
    "    print(\"x is positive\")\n",
    "elif x == 0:\n",
    "    print(\"x is zero\")  # prints: x is zero\n",
    "else:\n",
    "    print(\"x is negative\")"
   ]
  }
 ],
 "metadata": {
  "kernelspec": {
   "display_name": "Python 3",
   "language": "python",
   "name": "python3"
  },
  "language_info": {
   "codemirror_mode": {
    "name": "ipython",
    "version": 3
   },
   "file_extension": ".py",
   "mimetype": "text/x-python",
   "name": "python",
   "nbconvert_exporter": "python",
   "pygments_lexer": "ipython3",
   "version": "3.9.17"
  },
  "orig_nbformat": 4
 },
 "nbformat": 4,
 "nbformat_minor": 2
}
