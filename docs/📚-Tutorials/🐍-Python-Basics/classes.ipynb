{
 "cells": [
  {
   "attachments": {},
   "cell_type": "markdown",
   "metadata": {},
   "source": [
    "# 🏘️ Classes"
   ]
  },
  {
   "attachments": {},
   "cell_type": "markdown",
   "metadata": {},
   "source": [
    "## 1. Defining a Class\n",
    "\n",
    "In Python, a class is defined using the `class` keyword. A class can be thought of as a blueprint for creating objects with a particular set of attributes and methods."
   ]
  },
  {
   "cell_type": "code",
   "execution_count": 1,
   "metadata": {},
   "outputs": [],
   "source": [
    "class MyClass:\n",
    "    x = 5"
   ]
  },
  {
   "attachments": {},
   "cell_type": "markdown",
   "metadata": {},
   "source": [
    "## 2. Creating an Object\n",
    "\n",
    "Once a class is defined, you can create an instance of the class, also known as an object."
   ]
  },
  {
   "cell_type": "code",
   "execution_count": 2,
   "metadata": {},
   "outputs": [
    {
     "name": "stdout",
     "output_type": "stream",
     "text": [
      "5\n"
     ]
    }
   ],
   "source": [
    "p1 = MyClass()\n",
    "print(p1.x)  # prints: 5"
   ]
  },
  {
   "attachments": {},
   "cell_type": "markdown",
   "metadata": {},
   "source": [
    "## 3. The `__init__` Method\n",
    "\n",
    "The `__init__` method is a special method that's called when an object is created. You can use it to set the initial state of the object."
   ]
  },
  {
   "cell_type": "code",
   "execution_count": 3,
   "metadata": {},
   "outputs": [
    {
     "name": "stdout",
     "output_type": "stream",
     "text": [
      "Alice\n",
      "25\n"
     ]
    }
   ],
   "source": [
    "class Person:\n",
    "    def __init__(self, name, age):\n",
    "        self.name = name\n",
    "        self.age = age\n",
    "\n",
    "p1 = Person(\"Alice\", 25)\n",
    "print(p1.name)  # prints: Alice\n",
    "print(p1.age)  # prints: 25"
   ]
  },
  {
   "attachments": {},
   "cell_type": "markdown",
   "metadata": {},
   "source": [
    "## 4. Object Methods\n",
    "\n",
    "Objects can also contain methods. Methods in objects are functions that belong to the object."
   ]
  },
  {
   "cell_type": "code",
   "execution_count": 4,
   "metadata": {},
   "outputs": [
    {
     "name": "stdout",
     "output_type": "stream",
     "text": [
      "Hello, I'm a person!\n"
     ]
    }
   ],
   "source": [
    "class Person:\n",
    "    def __init__(self, name, age):\n",
    "        self.name = name\n",
    "        self.age = age\n",
    "\n",
    "    def greet(self):\n",
    "        print(f\"Hello, I'm a person!\")\n",
    "\n",
    "p1 = Person(\"Alice\", 25)\n",
    "p1.greet()  # prints: Hello, I'm a person!"
   ]
  },
  {
   "attachments": {},
   "cell_type": "markdown",
   "metadata": {},
   "source": [
    "## 5. The `self` Parameter\n",
    "\n",
    "The `self` parameter is a reference to the current instance of the class, and is used to access variables and methods that belong to the class. Here's an example:"
   ]
  },
  {
   "cell_type": "code",
   "execution_count": 5,
   "metadata": {},
   "outputs": [
    {
     "name": "stdout",
     "output_type": "stream",
     "text": [
      "This is a red Toyota\n"
     ]
    }
   ],
   "source": [
    "class Car:\n",
    "    def __init__(self, color, brand):\n",
    "        self.color = color\n",
    "        self.brand = brand\n",
    "\n",
    "    def display(self):\n",
    "        print(\"This is a\", self.color, self.brand)\n",
    "\n",
    "car1 = Car(\"red\", \"Toyota\")\n",
    "car1.display()  # prints: This is a red Toyota"
   ]
  },
  {
   "attachments": {},
   "cell_type": "markdown",
   "metadata": {},
   "source": [
    "\n",
    "In this code, `self` is used in the `__init__` method to create the `color` and `brand` attributes, and we use `self` again in the `display` method to access these attributes.\n",
    "\n",
    "The `self` parameter doesn't have to be named `self`. You can call it whatever you want, but it's a convention to name it `self`.\n",
    "\n",
    "It's important to note that while `self` is used in the method definitions, you do not provide it when you call the methods. Python automatically passes it for you. So when we call `car1.display()`, we're not providing any arguments, but `self` gets automatically associated with `car1`."
   ]
  },
  {
   "attachments": {},
   "cell_type": "markdown",
   "metadata": {},
   "source": [
    "## 6. The `__str__` Method\n",
    "\n",
    "You can define the `__str__` method in your class to specify what should be printed when an object of the class is printed."
   ]
  },
  {
   "cell_type": "code",
   "execution_count": 6,
   "metadata": {},
   "outputs": [
    {
     "name": "stdout",
     "output_type": "stream",
     "text": [
      "Person(name=Alice, age=25)\n"
     ]
    }
   ],
   "source": [
    "class Person:\n",
    "    def __init__(self, name, age):\n",
    "        self.name = name\n",
    "        self.age = age\n",
    "\n",
    "    def __str__(self):\n",
    "        return f\"Person(name={self.name}, age={self.age})\"\n",
    "\n",
    "p1 = Person(\"Alice\", 25)\n",
    "print(p1)  # prints: Person(name=Alice, age=25)"
   ]
  },
  {
   "attachments": {},
   "cell_type": "markdown",
   "metadata": {},
   "source": [
    "## 7. Static Methods\n",
    "\n",
    "Static methods in Python are extremely similar to normal functions except that they are part of a class. They can't modify the class state or the state of its instances. They are utility type methods that take some parameters and work upon those parameters. \n",
    "\n",
    "Here's an example:"
   ]
  },
  {
   "cell_type": "code",
   "execution_count": 7,
   "metadata": {},
   "outputs": [
    {
     "name": "stdout",
     "output_type": "stream",
     "text": [
      "8\n"
     ]
    }
   ],
   "source": [
    "class Math:\n",
    "\n",
    "    @staticmethod\n",
    "    def add(x, y):\n",
    "        return x + y\n",
    "\n",
    "print(Math.add(5, 3))  # prints: 8"
   ]
  },
  {
   "attachments": {},
   "cell_type": "markdown",
   "metadata": {},
   "source": [
    "In this example, `add` is a static method that takes two numbers and returns their sum. Note the `@staticmethod` decorator that's used to declare a static method."
   ]
  },
  {
   "attachments": {},
   "cell_type": "markdown",
   "metadata": {},
   "source": [
    "## 8. Class Methods\n",
    "\n",
    "While static methods are more or less detached from the class they are in, class methods are bound to the class, not its instance. They can't modify instance state (like normal methods can), but they can modify class state (which gets reflected in all instances of the class).\n",
    "\n",
    "Class methods take a first parameter that refers to the class, conventionally named `cls`. "
   ]
  },
  {
   "cell_type": "code",
   "execution_count": 8,
   "metadata": {},
   "outputs": [
    {
     "name": "stdout",
     "output_type": "stream",
     "text": [
      "There are 2 people.\n"
     ]
    }
   ],
   "source": [
    "class Person:\n",
    "    count = 0  # This is a class variable\n",
    "\n",
    "    def __init__(self, name):\n",
    "        self.name = name  # This is an instance variable\n",
    "        Person.count += 1\n",
    "\n",
    "    @classmethod\n",
    "    def show_count(cls):\n",
    "        print(f\"There are {cls.count} people.\")\n",
    "\n",
    "p1 = Person(\"Alice\")\n",
    "p2 = Person(\"Bob\")\n",
    "\n",
    "Person.show_count()  # prints: There are 2 people."
   ]
  },
  {
   "attachments": {},
   "cell_type": "markdown",
   "metadata": {},
   "source": [
    "## 9. Properties\n",
    "\n",
    "Python provides a property decorator which gives the developers the opportunity to get the benefits of both, by providing a way to define methods that can be accessed like attributes. This allows Python developers to implement getters and setters."
   ]
  },
  {
   "cell_type": "code",
   "execution_count": 10,
   "metadata": {},
   "outputs": [
    {
     "name": "stdout",
     "output_type": "stream",
     "text": [
      "Getting name\n",
      "Adam\n",
      "Setting name to John\n",
      "Getting name\n",
      "John\n",
      "Deleting name\n"
     ]
    }
   ],
   "source": [
    "\n",
    "class Person:\n",
    "    def __init__(self, name):\n",
    "        self._name = name  # _name is private now\n",
    "\n",
    "    @property\n",
    "    def name(self):\n",
    "        print('Getting name')\n",
    "        return self._name\n",
    "\n",
    "    @name.setter\n",
    "    def name(self, value):\n",
    "        if not isinstance(value, str):\n",
    "            raise TypeError(\"'name' must be a string.\")\n",
    "        print('Setting name to', value)\n",
    "        self._name = value\n",
    "\n",
    "    @name.deleter\n",
    "    def name(self):\n",
    "        print('Deleting name')\n",
    "        del self._name\n",
    "\n",
    "p = Person('Adam')\n",
    "print(p.name)  # prints: Getting name \\n Adam\n",
    "p.name = 'John'  # prints: Setting name to John\n",
    "print(p.name)  # prints: Getting name \\n John\n",
    "del p.name  # prints: Deleting name before deleting the attribute"
   ]
  },
  {
   "attachments": {},
   "cell_type": "markdown",
   "metadata": {},
   "source": [
    "In the code above, `name` is a property object which provides interface to the private variable `_name`. The `@property` decorator is used to convert the `name()` method into a getter for a read-only attribute. The `@name.setter` and `@name.deleter` decorators are used to define setter and deleter for `name` property. "
   ]
  }
 ],
 "metadata": {
  "kernelspec": {
   "display_name": "Python 3",
   "language": "python",
   "name": "python3"
  },
  "language_info": {
   "codemirror_mode": {
    "name": "ipython",
    "version": 3
   },
   "file_extension": ".py",
   "mimetype": "text/x-python",
   "name": "python",
   "nbconvert_exporter": "python",
   "pygments_lexer": "ipython3",
   "version": "3.9.9"
  },
  "orig_nbformat": 4
 },
 "nbformat": 4,
 "nbformat_minor": 2
}
