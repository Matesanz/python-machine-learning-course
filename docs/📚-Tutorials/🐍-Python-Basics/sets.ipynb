{
 "cells": [
  {
   "attachments": {},
   "cell_type": "markdown",
   "metadata": {},
   "source": [
    "# ☝️ Sets"
   ]
  },
  {
   "attachments": {},
   "cell_type": "markdown",
   "metadata": {},
   "source": [
    "## 1. Definition and Initialization\n",
    "\n",
    "In Python, a set is an unordered collection of unique items. Sets are written with curly brackets.\n"
   ]
  },
  {
   "cell_type": "code",
   "execution_count": null,
   "metadata": {},
   "outputs": [],
   "source": [
    "# set of integers\n",
    "s1 = {1, 2, 3, 4, 5}\n",
    "print(s1)  # prints: {1, 2, 3, 4, 5}\n",
    "\n",
    "# set automatically removes duplicates\n",
    "s2 = {1, 2, 2, 3, 4, 4, 5}\n",
    "print(s2)  # prints: {1, 2, 3, 4, 5}\n",
    "\n",
    "# we can make a set from a list\n",
    "s3 = set([1, 2, 2, 3, 4, 4, 5])\n",
    "print(s3)  # prints: {1, 2, 3, 4, 5}"
   ]
  },
  {
   "attachments": {},
   "cell_type": "markdown",
   "metadata": {},
   "source": [
    "## 2. Accessing Set Items\n",
    "\n",
    "You cannot access or change an element of a set using indexing or slicing. Set data type does not support it.\n"
   ]
  },
  {
   "cell_type": "code",
   "execution_count": null,
   "metadata": {},
   "outputs": [],
   "source": [
    "s1 = {1, 2, 3, 4, 5}\n",
    "print(s1[1])  # raises TypeError: 'set' object is not subscriptable"
   ]
  },
  {
   "attachments": {},
   "cell_type": "markdown",
   "metadata": {},
   "source": [
    "## 3. Add Items\n",
    "\n",
    "To add one item to a set, we use the `add()` method. To add more than one item, we use the `update()` method.\n"
   ]
  },
  {
   "cell_type": "code",
   "execution_count": null,
   "metadata": {},
   "outputs": [],
   "source": [
    "s1 = {1, 2, 3, 4, 5}\n",
    "\n",
    "s1.add(6)\n",
    "print(s1)  # prints: {1, 2, 3, 4, 5, 6}\n",
    "\n",
    "s1.update([7, 8, 9])\n",
    "print(s1)  # prints: {1, 2, 3, 4, 5, 6, 7, 8, 9}"
   ]
  },
  {
   "attachments": {},
   "cell_type": "markdown",
   "metadata": {},
   "source": [
    "## 4. Remove Item\n",
    "\n",
    "To remove an item in a set, we can use the `remove()`, or the `discard()` method.\n"
   ]
  },
  {
   "cell_type": "code",
   "execution_count": null,
   "metadata": {},
   "outputs": [],
   "source": [
    "s1 = {1, 2, 3, 4, 5}\n",
    "\n",
    "s1.remove(1)\n",
    "print(s1)  # prints: {2, 3, 4, 5}"
   ]
  },
  {
   "attachments": {},
   "cell_type": "markdown",
   "metadata": {},
   "source": [
    "If the item to remove does not exist, remove() will raise an error.\n",
    "\n",
    "```python\n",
    "s1.remove(7)  # raises KeyError: 7\n",
    "```"
   ]
  },
  {
   "cell_type": "code",
   "execution_count": null,
   "metadata": {},
   "outputs": [],
   "source": [
    "# If the item to remove does not exist, discard() will NOT raise an error.\n",
    "s1.discard(7)\n",
    "print(s1)  # prints: {2, 3, 4, 5}"
   ]
  },
  {
   "attachments": {},
   "cell_type": "markdown",
   "metadata": {},
   "source": [
    "## 5. Set Operations\n",
    "\n",
    "You can perform operations like union, intersection, difference, and symmetric difference on sets."
   ]
  },
  {
   "cell_type": "code",
   "execution_count": null,
   "metadata": {},
   "outputs": [],
   "source": [
    "s1 = {1, 2, 3, 4, 5}\n",
    "s2 = {4, 5, 6, 7, 8}\n",
    "\n",
    "print(s1.union(s2))             # prints: {1, 2, 3, 4, 5, 6, 7, 8}\n",
    "print(s1.intersection(s2))      # prints: {4, 5}\n",
    "print(s1.difference(s2))        # prints: {1, 2, 3}\n",
    "print(s1.symmetric_difference(s2)) # prints: {1, 2, 3, 6, 7, 8}"
   ]
  },
  {
   "attachments": {},
   "cell_type": "markdown",
   "metadata": {},
   "source": [
    "## 6. Length of a Set\n",
    "\n",
    "You can get the number of items in a set with the `len()` function."
   ]
  },
  {
   "cell_type": "code",
   "execution_count": null,
   "metadata": {},
   "outputs": [],
   "source": [
    "s1 = {1, 2, 3, 4, 5}\n",
    "print(len(s1))  # prints: 5"
   ]
  },
  {
   "attachments": {},
   "cell_type": "markdown",
   "metadata": {},
   "source": [
    "## 7. Check if Item Exists\n",
    "\n",
    "To determine if an item exists in a set, you can use the `in` keyword."
   ]
  },
  {
   "cell_type": "code",
   "execution_count": null,
   "metadata": {},
   "outputs": [],
   "source": [
    "s1 = {1, 2, 3, 4, 5}\n",
    "print(3 in s1)  # prints: True\n",
    "print(6 in s1)  # prints: False"
   ]
  },
  {
   "attachments": {},
   "cell_type": "markdown",
   "metadata": {},
   "source": [
    "## 8. Clear a Set\n",
    "\n",
    "To remove all items in a set, you can use the `clear()` method."
   ]
  },
  {
   "cell_type": "code",
   "execution_count": null,
   "metadata": {},
   "outputs": [],
   "source": [
    "s1 = {1, 2, 3, 4, 5}\n",
    "s1.clear()\n",
    "print(s1)  # prints: set()"
   ]
  },
  {
   "attachments": {},
   "cell_type": "markdown",
   "metadata": {},
   "source": [
    "## 9. Set Comprehensions\n",
    "\n",
    "Similar to lists, set comprehensions provide a concise way to create sets."
   ]
  },
  {
   "cell_type": "code",
   "execution_count": null,
   "metadata": {},
   "outputs": [],
   "source": [
    "# create a set of squares for numbers from 0 to 9\n",
    "squares = {x**2 for x in range(10)}\n",
    "print(squares)  # prints: {0, 1, 4, 9, 16, 25, 36, 49, 64, 81}"
   ]
  }
 ],
 "metadata": {
  "language_info": {
   "name": "python"
  },
  "orig_nbformat": 4
 },
 "nbformat": 4,
 "nbformat_minor": 2
}
