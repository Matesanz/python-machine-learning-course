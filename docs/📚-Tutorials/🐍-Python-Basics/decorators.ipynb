{
 "cells": [
  {
   "attachments": {},
   "cell_type": "markdown",
   "metadata": {},
   "source": [
    "# 🍔 Decorators"
   ]
  },
  {
   "attachments": {},
   "cell_type": "markdown",
   "metadata": {},
   "source": [
    "## 1. Introduction to Decorators\n",
    "\n",
    "In Python, decorators are a design pattern that allow you to add new functionality to an existing object without modifying its structure. Decorators are typically used to extend the behavior of functions and methods, and they provide a flexible alternative to subclassing for extending functionality."
   ]
  },
  {
   "attachments": {},
   "cell_type": "markdown",
   "metadata": {},
   "source": [
    "## 2. Basic Function\n",
    "\n",
    "Before we talk about decorators, let's first understand functions in Python. Here's a simple function:"
   ]
  },
  {
   "cell_type": "code",
   "execution_count": 3,
   "metadata": {},
   "outputs": [
    {
     "data": {
      "text/plain": [
       "'Hello, Alice!'"
      ]
     },
     "execution_count": 3,
     "metadata": {},
     "output_type": "execute_result"
    }
   ],
   "source": [
    "def greet(name):\n",
    "    return f\"Hello, {name}!\"\n",
    "\n",
    "greet(\"Alice\")  # prints: Hello, Alice!"
   ]
  },
  {
   "attachments": {},
   "cell_type": "markdown",
   "metadata": {},
   "source": [
    "## 3. Functions as First-Class Objects\n",
    "\n",
    "In Python, functions are first-class objects. This means that functions can be passed around and used as arguments, just like any other object (string, int, float, list, and so on). Here's an example:"
   ]
  },
  {
   "cell_type": "code",
   "execution_count": 4,
   "metadata": {},
   "outputs": [
    {
     "data": {
      "text/plain": [
       "'Hello, Alice!'"
      ]
     },
     "execution_count": 4,
     "metadata": {},
     "output_type": "execute_result"
    }
   ],
   "source": [
    "def greet(name):\n",
    "    return f\"Hello, {name}!\"\n",
    "\n",
    "def call_func(func, name):\n",
    "    return func(name)\n",
    "\n",
    "call_func(greet, \"Alice\")  # prints: Hello, Alice!"
   ]
  },
  {
   "attachments": {},
   "cell_type": "markdown",
   "metadata": {},
   "source": [
    "In this example, `call_func` takes a function and a name, and it calls the provided function with the provided name."
   ]
  },
  {
   "attachments": {},
   "cell_type": "markdown",
   "metadata": {},
   "source": [
    "## 4. Defining a Decorator\n",
    "\n",
    "A decorator is just a function that takes a function as an argument, and returns a new function that usually extends or modifies the behavior of the input function. Here's an example:"
   ]
  },
  {
   "cell_type": "code",
   "execution_count": 5,
   "metadata": {},
   "outputs": [
    {
     "data": {
      "text/plain": [
       "'Hello, Alice! How are you?'"
      ]
     },
     "execution_count": 5,
     "metadata": {},
     "output_type": "execute_result"
    }
   ],
   "source": [
    "def my_decorator(func):\n",
    "    def wrapper(name):\n",
    "        return f\"{func(name)} How are you?\"\n",
    "    return wrapper\n",
    "\n",
    "@my_decorator\n",
    "def greet(name):\n",
    "    return f\"Hello, {name}!\"\n",
    "\n",
    "greet(\"Alice\")  # prints: Hello, Alice! How are you?"
   ]
  },
  {
   "attachments": {},
   "cell_type": "markdown",
   "metadata": {},
   "source": [
    "In this code, `my_decorator` is a function that takes a function `func`, and returns a new function `wrapper` that adds some behavior to `func`.\n",
    "\n",
    "The `@my_decorator` line is Python's decorator syntax. It's just a shorthand for `greet = my_decorator(greet)`.\n",
    "\n",
    "When we call `greet(\"Alice\")`, we're actually calling the `wrapper` function defined inside `my_decorator`. This `wrapper` function calls `greet(\"Alice\")`, then adds `\" How are you?\"` to the end of the string that `greet` returns."
   ]
  },
  {
   "attachments": {},
   "cell_type": "markdown",
   "metadata": {},
   "source": [
    "## 5. Using Multiple Decorators\n",
    "\n",
    "You can use multiple decorators for a single function. The decorators are applied from bottom to top."
   ]
  },
  {
   "cell_type": "code",
   "execution_count": 6,
   "metadata": {},
   "outputs": [
    {
     "data": {
      "text/plain": [
       "'Hello, Alice!'"
      ]
     },
     "execution_count": 6,
     "metadata": {},
     "output_type": "execute_result"
    }
   ],
   "source": [
    "def add_exclamation(func):\n",
    "    def wrapper(name):\n",
    "        return f\"{func(name)}!\"\n",
    "    return wrapper\n",
    "\n",
    "def add_greeting(func):\n",
    "    def wrapper(name):\n",
    "        return f\"Hello, {func(name)}\"\n",
    "    return wrapper\n",
    "\n",
    "@add_exclamation\n",
    "@add_greeting\n",
    "def get_name(name):\n",
    "    return name\n",
    "\n",
    "get_name(\"Alice\")  # prints: Hello, Alice!"
   ]
  },
  {
   "attachments": {},
   "cell_type": "markdown",
   "metadata": {},
   "source": [
    "In this code, `get_name` is first decorated with `add_greeting` (which adds `\"Hello, \"` to the start of the string), then it's decorated with `add_exclamation` (which adds `\"!\"` to the end of the string)."
   ]
  },
  {
   "attachments": {},
   "cell_type": "markdown",
   "metadata": {},
   "source": [
    "## 6. Decorators with Arguments\n",
    "\n",
    "If you want to create a decorator that takes its own arguments, you can do so by creating a function that returns a decorator."
   ]
  },
  {
   "cell_type": "code",
   "execution_count": 7,
   "metadata": {},
   "outputs": [
    {
     "name": "stdout",
     "output_type": "stream",
     "text": [
      "Hello, Alice!\n",
      "Hello, Alice!\n",
      "Hello, Alice!\n",
      "Hello, Alice!\n"
     ]
    }
   ],
   "source": [
    "def repeat(num_times):\n",
    "    def decorator(func):\n",
    "        def wrapper(*args, **kwargs):\n",
    "            for _ in range(num_times):\n",
    "                result = func(*args, **kwargs)\n",
    "            return result\n",
    "        return wrapper\n",
    "    return decorator\n",
    "\n",
    "@repeat(num_times=4)\n",
    "def greet(name):\n",
    "    print(f\"Hello, {name}!\")\n",
    "\n",
    "greet(\"Alice\")"
   ]
  },
  {
   "attachments": {},
   "cell_type": "markdown",
   "metadata": {},
   "source": [
    "In this code, repeat(num_times=4) returns the decorator function, which in turn takes a function and returns a wrapper that calls the given function num_times times.\n",
    "\n",
    "So when we call greet(\"Alice\"), it's actually calling the wrapper function which prints Hello, Alice! four times.\n",
    "\n",
    "Decorators can be a bit confusing at first, but once you understand that a decorator is just a function that takes a function and returns a new function, they become much easier to understand. Just remember that the @decorator syntax is just a shorthand, and that you can always replace @decorator def func(args): with func = decorator(func)."
   ]
  }
 ],
 "metadata": {
  "kernelspec": {
   "display_name": "Python 3",
   "language": "python",
   "name": "python3"
  },
  "language_info": {
   "codemirror_mode": {
    "name": "ipython",
    "version": 3
   },
   "file_extension": ".py",
   "mimetype": "text/x-python",
   "name": "python",
   "nbconvert_exporter": "python",
   "pygments_lexer": "ipython3",
   "version": "3.9.9"
  },
  "orig_nbformat": 4
 },
 "nbformat": 4,
 "nbformat_minor": 2
}
