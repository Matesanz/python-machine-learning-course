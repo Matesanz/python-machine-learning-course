{
 "cells": [
  {
   "attachments": {},
   "cell_type": "markdown",
   "metadata": {},
   "source": [
    "# 🔢 Integers and Floats"
   ]
  },
  {
   "attachments": {},
   "cell_type": "markdown",
   "metadata": {},
   "source": [
    "## 1. Definition and Initialization\n"
   ]
  },
  {
   "attachments": {},
   "cell_type": "markdown",
   "metadata": {},
   "source": [
    "\n",
    "### Integers\n",
    "Integers in Python are whole numbers, positive or negative, without decimals, of unlimited length.\n"
   ]
  },
  {
   "cell_type": "code",
   "execution_count": 1,
   "metadata": {},
   "outputs": [
    {
     "name": "stdout",
     "output_type": "stream",
     "text": [
      "1 -3255522 35656222554887711\n"
     ]
    }
   ],
   "source": [
    "x = 1\n",
    "y = -3255522\n",
    "z = 35656222554887711\n",
    "print(x, y, z)"
   ]
  },
  {
   "attachments": {},
   "cell_type": "markdown",
   "metadata": {},
   "source": [
    "\n",
    "### Floats\n",
    "Floats in Python are real numbers, containing one or more decimals.\n"
   ]
  },
  {
   "cell_type": "code",
   "execution_count": 2,
   "metadata": {},
   "outputs": [
    {
     "name": "stdout",
     "output_type": "stream",
     "text": [
      "1.1 -35.59 35000.0\n"
     ]
    }
   ],
   "source": [
    "x = 1.10\n",
    "y = -35.59\n",
    "z = 35e3  # using \"e\" to denote an exponential number\n",
    "print(x, y, z)"
   ]
  },
  {
   "attachments": {},
   "cell_type": "markdown",
   "metadata": {},
   "source": [
    "## 2. Arithmetic Operations\n",
    "\n",
    "You can perform basic arithmetic operations on integers and floats, such as addition (+), subtraction (-), multiplication (*), division (/), floor division (//), modulus (%), and exponentiation (**)."
   ]
  },
  {
   "cell_type": "code",
   "execution_count": 3,
   "metadata": {},
   "outputs": [
    {
     "name": "stdout",
     "output_type": "stream",
     "text": [
      "7\n",
      "3\n",
      "10\n",
      "2.5\n",
      "2\n",
      "1\n",
      "25\n"
     ]
    }
   ],
   "source": [
    "x = 5\n",
    "y = 2\n",
    "\n",
    "print(x + y)  # prints: 7\n",
    "print(x - y)  # prints: 3\n",
    "print(x * y)  # prints: 10\n",
    "print(x / y)  # prints: 2.5\n",
    "print(x // y) # prints: 2 (floored quotient of x and y)\n",
    "print(x % y)  # prints: 1 (remainder of x / y)\n",
    "print(x ** y) # prints: 25 (x to the power y)"
   ]
  },
  {
   "attachments": {},
   "cell_type": "markdown",
   "metadata": {},
   "source": [
    "## 3. Comparisons\n",
    "\n",
    "You can compare integers and floats using comparison operators: equals (==), not equal (!=), greater than (>), less than (<), greater than or equal to (>=), and less than or equal to (<=).\n"
   ]
  },
  {
   "cell_type": "code",
   "execution_count": 4,
   "metadata": {},
   "outputs": [
    {
     "name": "stdout",
     "output_type": "stream",
     "text": [
      "False\n",
      "True\n",
      "True\n",
      "False\n",
      "True\n",
      "False\n"
     ]
    }
   ],
   "source": [
    "x = 5\n",
    "y = 2\n",
    "\n",
    "print(x == y)  # prints: False\n",
    "print(x != y)  # prints: True\n",
    "print(x > y)   # prints: True\n",
    "print(x < y)   # prints: False\n",
    "print(x >= y)  # prints: True\n",
    "print(x <= y)  # prints: False"
   ]
  },
  {
   "attachments": {},
   "cell_type": "markdown",
   "metadata": {},
   "source": [
    "## 4. Type Conversion\n",
    "\n",
    "You can convert between integers and floats using the `int()` and `float()` functions."
   ]
  },
  {
   "cell_type": "code",
   "execution_count": 5,
   "metadata": {},
   "outputs": [
    {
     "name": "stdout",
     "output_type": "stream",
     "text": [
      "1\n",
      "1.5\n"
     ]
    }
   ],
   "source": [
    "x = 1.5\n",
    "\n",
    "print(int(x))   # prints: 1\n",
    "print(float(x)) # prints: 1.5"
   ]
  },
  {
   "attachments": {},
   "cell_type": "markdown",
   "metadata": {},
   "source": [
    "## 5. Math Functions\n",
    "\n",
    "Python includes a math module that provides mathematical functions. To use it, you first need to import it."
   ]
  },
  {
   "cell_type": "code",
   "execution_count": 6,
   "metadata": {},
   "outputs": [
    {
     "name": "stdout",
     "output_type": "stream",
     "text": [
      "1.4142135623730951\n",
      "8.0\n",
      "3.141592653589793\n"
     ]
    }
   ],
   "source": [
    "import math\n",
    "\n",
    "x = 2\n",
    "y = 3\n",
    "\n",
    "print(math.sqrt(x))         # prints: 1.4142135623730951 (square root)\n",
    "print(math.pow(x, y))       # prints: 8.0 (power)\n",
    "print(math.pi)              # prints: 3.141592653589793 (pi constant)"
   ]
  }
 ],
 "metadata": {
  "kernelspec": {
   "display_name": "Python 3",
   "language": "python",
   "name": "python3"
  },
  "language_info": {
   "codemirror_mode": {
    "name": "ipython",
    "version": 3
   },
   "file_extension": ".py",
   "mimetype": "text/x-python",
   "name": "python",
   "nbconvert_exporter": "python",
   "pygments_lexer": "ipython3",
   "version": "3.9.17"
  },
  "orig_nbformat": 4
 },
 "nbformat": 4,
 "nbformat_minor": 2
}
