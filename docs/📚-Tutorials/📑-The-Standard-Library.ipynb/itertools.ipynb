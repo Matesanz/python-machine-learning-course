{
 "cells": [
  {
   "attachments": {},
   "cell_type": "markdown",
   "metadata": {},
   "source": [
    "# 🌪️ Itertools\n",
    "\n",
    "The `itertools` module is a very powerful Python built-in module for creating and using iterators. It is especially powerful when dealing with large datasets, for several reasons:\n",
    "\n",
    "1. **Memory Efficiency**: Iterators in `itertools` don't need to load the entire dataset into memory. Instead, they generate one item at a time, as you need them. This makes them ideal for processing large datasets that might not fit into memory.\n",
    "\n",
    "2. **Lazy Evaluation**: `itertools` uses lazy evaluation, meaning that computations are only performed when needed. For instance, if you only need the first few items from an infinite iterator, only those items will be computed.\n",
    "\n",
    "3. **High Performance**: The `itertools` functions are implemented in C, meaning they are high-performance functions that run more quickly than standard Python code.\n",
    "\n",
    "4. **Composability**: The tools in `itertools` are designed to be combined with each other. This means you can build more complex iterators from the basic ones provided by the module.\n",
    "\n",
    "5. **Flexible Iteration**: The module offers flexible, iterator-based solutions for creating permutations and combinations, Cartesian products, slicing, grouping, and more. It can solve a wide range of real-world problems, including many encountered in data analysis and machine learning.\n",
    "\n",
    "By making efficient use of memory, processing large datasets quickly, and offering a suite of tools for flexible iteration and combinations, `itertools` is indeed a very powerful module in Python."
   ]
  },
  {
   "attachments": {},
   "cell_type": "markdown",
   "metadata": {},
   "source": [
    "## 1. Importing itertools\n",
    "\n",
    "You can import the `itertools` module as follows:"
   ]
  },
  {
   "cell_type": "code",
   "execution_count": 1,
   "metadata": {},
   "outputs": [],
   "source": [
    "import itertools"
   ]
  },
  {
   "attachments": {},
   "cell_type": "markdown",
   "metadata": {},
   "source": [
    "## 2. Infinite Iterators\n",
    "\n",
    "`itertools` provides three types of infinite iterators:\n",
    "\n",
    "- `count(start, step)`: This iterator starts with `start` and increments it by `step` indefinitely."
   ]
  },
  {
   "cell_type": "code",
   "execution_count": 2,
   "metadata": {},
   "outputs": [
    {
     "name": "stdout",
     "output_type": "stream",
     "text": [
      "10\n",
      "12\n",
      "14\n",
      "16\n",
      "18\n",
      "20\n",
      "22\n"
     ]
    }
   ],
   "source": [
    "for num in itertools.count(10, 2):\n",
    "    print(num)\n",
    "    if num > 20:\n",
    "        break"
   ]
  },
  {
   "attachments": {},
   "cell_type": "markdown",
   "metadata": {},
   "source": [
    "- `cycle(iterable)`: This iterator cycles indefinitely over an iterable."
   ]
  },
  {
   "cell_type": "code",
   "execution_count": 3,
   "metadata": {},
   "outputs": [
    {
     "name": "stdout",
     "output_type": "stream",
     "text": [
      "X\n",
      "Y\n",
      "Z\n",
      "X\n",
      "Y\n",
      "Z\n",
      "X\n",
      "Y\n"
     ]
    }
   ],
   "source": [
    "count = 0\n",
    "for item in itertools.cycle('XYZ'):\n",
    "    if count > 7:\n",
    "        break\n",
    "    print(item)\n",
    "    count += 1"
   ]
  },
  {
   "attachments": {},
   "cell_type": "markdown",
   "metadata": {},
   "source": [
    "- `repeat(object, times)`: This iterator returns an object over and over again. If `times` is specified, it will repeat the object that number of times."
   ]
  },
  {
   "cell_type": "code",
   "execution_count": 4,
   "metadata": {},
   "outputs": [
    {
     "name": "stdout",
     "output_type": "stream",
     "text": [
      "A\n",
      "A\n",
      "A\n",
      "A\n"
     ]
    }
   ],
   "source": [
    "for item in itertools.repeat('A', 4):\n",
    "    print(item)"
   ]
  },
  {
   "attachments": {},
   "cell_type": "markdown",
   "metadata": {},
   "source": [
    "## 3. Iterators Terminating on the Shortest Input Sequence\n",
    "\n",
    "`itertools` provides several functions that make iterators terminating on the shortest input sequence:"
   ]
  },
  {
   "attachments": {},
   "cell_type": "markdown",
   "metadata": {},
   "source": [
    "- `accumulate(iterable, func)`: This iterator returns accumulated sums."
   ]
  },
  {
   "cell_type": "code",
   "execution_count": 5,
   "metadata": {},
   "outputs": [
    {
     "name": "stdout",
     "output_type": "stream",
     "text": [
      "1\n",
      "2\n",
      "6\n",
      "24\n",
      "120\n"
     ]
    }
   ],
   "source": [
    "import operator\n",
    "data = [1, 2, 3, 4, 5]\n",
    "result = itertools.accumulate(data, operator.mul)\n",
    "for each in result:\n",
    "    print(each)"
   ]
  },
  {
   "attachments": {},
   "cell_type": "markdown",
   "metadata": {},
   "source": [
    "- `chain(*iterables)`: This function takes several iterables as arguments and returns a single iterator that produces the contents of the inputs one after the other."
   ]
  },
  {
   "cell_type": "code",
   "execution_count": 6,
   "metadata": {},
   "outputs": [
    {
     "name": "stdout",
     "output_type": "stream",
     "text": [
      "1\n",
      "2\n",
      "3\n",
      "a\n",
      "b\n",
      "c\n"
     ]
    }
   ],
   "source": [
    "for item in itertools.chain([1, 2, 3], ['a', 'b', 'c']):\n",
    "    print(item)"
   ]
  },
  {
   "attachments": {},
   "cell_type": "markdown",
   "metadata": {},
   "source": [
    "- `zip_longest(*iterables, fillvalue=None)`: This function makes an iterator that aggregates elements from each of the iterables. If the iterables are of uneven length, missing values are filled-in with fillvalue."
   ]
  },
  {
   "cell_type": "code",
   "execution_count": 7,
   "metadata": {},
   "outputs": [
    {
     "name": "stdout",
     "output_type": "stream",
     "text": [
      "(1, 'a')\n",
      "(2, 'b')\n",
      "(3, '_')\n"
     ]
    }
   ],
   "source": [
    "for item in itertools.zip_longest([1, 2, 3], ['a', 'b'], fillvalue='_'):\n",
    "    print(item)"
   ]
  },
  {
   "attachments": {},
   "cell_type": "markdown",
   "metadata": {},
   "source": [
    "## 4. Combinatoric Iterators\n",
    "\n",
    "`itertools` also provides several functions for creating iterators that produce complex iterators:"
   ]
  },
  {
   "attachments": {},
   "cell_type": "markdown",
   "metadata": {},
   "source": [
    "- `product(*iterables, repeat=1)`: This function creates a Cartesian product from several input iterables."
   ]
  },
  {
   "cell_type": "code",
   "execution_count": 8,
   "metadata": {},
   "outputs": [
    {
     "name": "stdout",
     "output_type": "stream",
     "text": [
      "(1, 'a')\n",
      "(1, 'b')\n",
      "(2, 'a')\n",
      "(2, 'b')\n"
     ]
    }
   ],
   "source": [
    "for item in itertools.product([1, 2], ['a', 'b']):\n",
    "    print(item)"
   ]
  },
  {
   "attachments": {},
   "cell_type": "markdown",
   "metadata": {},
   "source": [
    "- `permutations(iterable, r=None)`: This function makes an iterator that returns successive `r` length permutations of elements in the `iterable`."
   ]
  },
  {
   "cell_type": "code",
   "execution_count": 9,
   "metadata": {},
   "outputs": [
    {
     "name": "stdout",
     "output_type": "stream",
     "text": [
      "(1, 2)\n",
      "(1, 3)\n",
      "(2, 1)\n",
      "(2, 3)\n",
      "(3, 1)\n",
      "(3, 2)\n"
     ]
    }
   ],
   "source": [
    "for item in itertools.permutations([1, 2, 3], 2):\n",
    "    print(item)"
   ]
  },
  {
   "attachments": {},
   "cell_type": "markdown",
   "metadata": {},
   "source": [
    "- `combinations(iterable, r)`: This function makes an iterator that returns successive `r` length combinations of elements in the `iterable`."
   ]
  },
  {
   "cell_type": "code",
   "execution_count": 10,
   "metadata": {},
   "outputs": [
    {
     "name": "stdout",
     "output_type": "stream",
     "text": [
      "(1, 2)\n",
      "(1, 3)\n",
      "(1, 4)\n",
      "(2, 3)\n",
      "(2, 4)\n",
      "(3, 4)\n"
     ]
    }
   ],
   "source": [
    "for item in itertools.combinations([1, 2, 3, 4], 2):\n",
    "    print(item)"
   ]
  }
 ],
 "metadata": {
  "kernelspec": {
   "display_name": "Python 3",
   "language": "python",
   "name": "python3"
  },
  "language_info": {
   "codemirror_mode": {
    "name": "ipython",
    "version": 3
   },
   "file_extension": ".py",
   "mimetype": "text/x-python",
   "name": "python",
   "nbconvert_exporter": "python",
   "pygments_lexer": "ipython3",
   "version": "3.9.17"
  },
  "orig_nbformat": 4
 },
 "nbformat": 4,
 "nbformat_minor": 2
}
